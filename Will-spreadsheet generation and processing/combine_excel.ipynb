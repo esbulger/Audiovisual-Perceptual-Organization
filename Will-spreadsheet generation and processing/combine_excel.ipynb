{
 "cells": [
  {
   "attachments": {},
   "cell_type": "markdown",
   "metadata": {},
   "source": [
    "### This code combine the half number of rows from 2 csv file and combine them to a new csv file."
   ]
  },
  {
   "attachments": {},
   "cell_type": "markdown",
   "metadata": {},
   "source": [
    "#### Find all the path for xlsx in a directory"
   ]
  },
  {
   "cell_type": "code",
   "execution_count": 1,
   "metadata": {},
   "outputs": [
    {
     "name": "stdout",
     "output_type": "stream",
     "text": [
      "96\n"
     ]
    }
   ],
   "source": [
    "import glob\n",
    "import os\n",
    "#\"E:\\cmu\\lab project\\stimuli generation\\auditory-stimuli-mono-v3 (block 4 70ms syllabus)\"\n",
    "root_dir = \"E:\\cmu\\lab project\\stimuli generation\\syllable-4-semitone-interval-10\"\n",
    "\n",
    "xlsx_files = []\n",
    "for dirpath, dirnames, filenames in os.walk(root_dir):\n",
    "    xlsx_files.extend(glob.glob(os.path.join(dirpath,'*.xlsx')))\n",
    "\n",
    "xlsx_files = [i.replace('\\\\', '/') for i in xlsx_files]\n",
    "xlsx_files = [name for name in xlsx_files if '~'  not in name]\n",
    "\n",
    "print(len(xlsx_files)) # should be 96\n",
    "#print(xlsx_files)"
   ]
  },
  {
   "cell_type": "code",
   "execution_count": 2,
   "metadata": {},
   "outputs": [
    {
     "name": "stdout",
     "output_type": "stream",
     "text": [
      "48\n",
      "E:/cmu/lab project/stimuli generation/syllable-4-semitone-interval-10/task_type_ap/Block_1_pitch/len4\n"
     ]
    }
   ],
   "source": [
    "paths = []\n",
    "for dirpath, dirnames, filenames in os.walk(root_dir):\n",
    "    paths.extend(glob.glob(dirpath))\n",
    "\n",
    "\n",
    "paths = [name for name in paths if 'len' in name]\n",
    "paths = [i.replace('\\\\', '/') for i in paths]\n",
    "\n",
    "print(len(paths))\n",
    "print(paths[0])\n"
   ]
  },
  {
   "attachments": {},
   "cell_type": "markdown",
   "metadata": {},
   "source": [
    "####  Randomly select half number of rows from 2 xlsx file and combine them to a new xlsx file"
   ]
  },
  {
   "cell_type": "code",
   "execution_count": 3,
   "metadata": {},
   "outputs": [
    {
     "name": "stdout",
     "output_type": "stream",
     "text": [
      "number:  1\n",
      "number:  2\n",
      "number:  3\n",
      "number:  4\n",
      "number:  5\n",
      "number:  6\n",
      "number:  7\n",
      "number:  8\n",
      "number:  9\n",
      "number:  10\n",
      "number:  11\n",
      "number:  12\n",
      "number:  13\n",
      "number:  14\n",
      "number:  15\n",
      "number:  16\n",
      "number:  17\n",
      "number:  18\n",
      "number:  19\n",
      "number:  20\n",
      "number:  21\n",
      "number:  22\n",
      "number:  23\n",
      "number:  24\n",
      "number:  25\n",
      "number:  26\n",
      "number:  27\n",
      "number:  28\n",
      "number:  29\n",
      "number:  30\n",
      "number:  31\n",
      "number:  32\n",
      "number:  33\n",
      "number:  34\n",
      "number:  35\n",
      "number:  36\n",
      "number:  37\n",
      "number:  38\n",
      "number:  39\n",
      "number:  40\n",
      "number:  41\n",
      "number:  42\n",
      "number:  43\n",
      "number:  44\n",
      "number:  45\n",
      "number:  46\n",
      "number:  47\n",
      "number:  48\n",
      "complete\n"
     ]
    }
   ],
   "source": [
    "import openpyxl\n",
    "import random\n",
    "import numpy as np\n",
    "\n",
    "\n",
    "def add_rows(old_file1, old_file2, new_file):\n",
    "    # Load the workbook\n",
    "    old_wb1 = openpyxl.load_workbook(old_file1)\n",
    "    old_ws1 = old_wb1.active\n",
    "    old_wb2 = openpyxl.load_workbook(old_file2)\n",
    "    old_ws2 = old_wb2.active\n",
    "    \n",
    "    # Create a new workbook with the same columns as the old one\n",
    "    new_wb = openpyxl.Workbook()\n",
    "    new_ws = new_wb.active\n",
    "    for i in range(1, old_ws1.max_column + 1):\n",
    "        new_ws.cell(row=1, column=i).value = old_ws1.cell(row=1, column=i).value\n",
    "\n",
    "    # Get the total number of rows\n",
    "    total_rows1 = old_ws1.max_row\n",
    "    total_rows2 = old_ws2.max_row\n",
    "\n",
    "    # Select half of the rows, starting from the 3rd row\n",
    "    rows1 = random.sample(range(3, total_rows1 + 1), (total_rows1 - 2) // 2)\n",
    "    tp = np.arange(3, total_rows1+1)\n",
    "    rows2 = (np.setdiff1d(tp, rows1)).tolist()\n",
    "\n",
    "    #rows2 = random.sample(range(3, total_rows2 + 1), (total_rows2 - 2) // 2)\n",
    "\n",
    "    # Copy the selected rows to the new workbook\n",
    "    for i in range(len(rows1)):\n",
    "        for j in range(1, old_ws1.max_column + 1):\n",
    "            new_ws.cell(row=i+2, column=j).value = old_ws1.cell(row=rows1[i], column=j).value\n",
    "    for i in range(len(rows2)):\n",
    "        for j in range(1, old_ws2.max_column + 1):\n",
    "            new_ws.cell(row=i+2+len(rows1), column=j).value = old_ws2.cell(row=rows2[i], column=j).value\n",
    "\n",
    "    new_wb.save(new_file)\n",
    "\n",
    "for i in range(0, len(xlsx_files), 2):\n",
    "    print('number: ', int(i/2)+1)\n",
    "    old_file1 = xlsx_files[i]\n",
    "    old_file2 = xlsx_files[i+1]\n",
    "    new_file = paths[int(i/2)] + '/combined.xlsx'\n",
    "    add_rows(old_file1, old_file2, new_file)\n",
    "\n",
    "print('complete')"
   ]
  }
 ],
 "metadata": {
  "kernelspec": {
   "display_name": "LiMN",
   "language": "python",
   "name": "python3"
  },
  "language_info": {
   "codemirror_mode": {
    "name": "ipython",
    "version": 3
   },
   "file_extension": ".py",
   "mimetype": "text/x-python",
   "name": "python",
   "nbconvert_exporter": "python",
   "pygments_lexer": "ipython3",
   "version": "3.9.6"
  },
  "orig_nbformat": 4,
  "vscode": {
   "interpreter": {
    "hash": "20aea644ccde685b7677d5befe552e1f07e94e7d305e3905cfc2ae5ca0be2a67"
   }
  }
 },
 "nbformat": 4,
 "nbformat_minor": 2
}
