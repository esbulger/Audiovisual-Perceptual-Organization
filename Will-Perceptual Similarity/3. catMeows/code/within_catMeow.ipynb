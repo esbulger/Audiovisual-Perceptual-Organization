{
 "cells": [
  {
   "cell_type": "code",
   "execution_count": 1,
   "metadata": {},
   "outputs": [],
   "source": [
    "import csv\n",
    "import itertools\n",
    "import os\n",
    "import glob"
   ]
  },
  {
   "cell_type": "markdown",
   "metadata": {},
   "source": [
    "### Cat Meows: Gorilla Experiment spreadsheet for within category"
   ]
  },
  {
   "cell_type": "code",
   "execution_count": 2,
   "metadata": {},
   "outputs": [
    {
     "name": "stdout",
     "output_type": "stream",
     "text": [
      "['17_300ms.wav', '18_300ms.wav', '24_300ms.wav', '25_300ms.wav', '26_300ms.wav', '2_300ms.wav', '5_300ms.wav', '8_300ms.wav', '11_300ms.wav', '1_300ms.wav']\n",
      "10\n"
     ]
    }
   ],
   "source": [
    "# Create destination folder if it doesn't exist\n",
    "destination_folder = '/Volumes/T7/CMU LiMN Research/Perceptual Organization/Perceptual Similarity/3. catMeows/spreadsheet'\n",
    "if not os.path.exists(destination_folder):\n",
    "    os.makedirs(destination_folder)\n",
    "\n",
    "# Extract all the complex tone wav files\n",
    "catMeow_pth = \"/Volumes/T7/CMU LiMN Research/perceptual organization/stimuli exploration/Separated stimulus/animal-sounds (same category)/cat_sounds/6. 300ms loudness normalized cat sounds\"\n",
    "\n",
    "# Gather all .wav file names in the directory (without directory path)\n",
    "catMeow_files = [os.path.basename(f) for f in glob.glob(f\"{catMeow_pth}/**/*.wav\", recursive=True)]\n",
    "\n",
    "# Print the list of file names and the number of files\n",
    "print(catMeow_files)\n",
    "print(len(catMeow_files))"
   ]
  },
  {
   "cell_type": "code",
   "execution_count": 3,
   "metadata": {},
   "outputs": [],
   "source": [
    "# Step 2: Create the CSV file\n",
    "csv_path = os.path.join(destination_folder, 'within_catMeow.csv')\n",
    "with open(csv_path, 'w', newline='') as csvfile:\n",
    "    fieldnames = ['display', 'A', 'B', 'randomize_trials']\n",
    "    writer = csv.DictWriter(csvfile, fieldnames=fieldnames)\n",
    "    \n",
    "    writer.writeheader()\n",
    "    \n",
    "    # Instructions row\n",
    "    writer.writerow({'display': 'Instructions1', 'A': '', 'B': '', 'randomize_trials': ''})\n",
    "    \n",
    "    # Trials (120 combinations)\n",
    "    for combo in itertools.combinations(catMeow_files, 2):\n",
    "        writer.writerow({'display': 'Trial', 'A': combo[0], 'B': combo[1], 'randomize_trials': '1'})\n",
    "    \n",
    "    # Finish row\n",
    "    writer.writerow({'display': 'Finish', 'A': '', 'B': '', 'randomize_trials': ''})"
   ]
  }
 ],
 "metadata": {
  "kernelspec": {
   "display_name": "LiMN",
   "language": "python",
   "name": "limn"
  },
  "language_info": {
   "codemirror_mode": {
    "name": "ipython",
    "version": 3
   },
   "file_extension": ".py",
   "mimetype": "text/x-python",
   "name": "python",
   "nbconvert_exporter": "python",
   "pygments_lexer": "ipython3",
   "version": "3.9.6"
  }
 },
 "nbformat": 4,
 "nbformat_minor": 2
}
