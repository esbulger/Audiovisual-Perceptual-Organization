{
 "cells": [
  {
   "cell_type": "code",
   "execution_count": 1,
   "metadata": {},
   "outputs": [],
   "source": [
    "import csv\n",
    "import itertools\n",
    "import os"
   ]
  },
  {
   "cell_type": "markdown",
   "metadata": {},
   "source": [
    "### Complex Tones vs Everyday Sounds"
   ]
  },
  {
   "cell_type": "code",
   "execution_count": 2,
   "metadata": {},
   "outputs": [
    {
     "name": "stdout",
     "output_type": "stream",
     "text": [
      "['C4.wav', 'D4.wav', 'E4.wav', 'Fs4_Gb4.wav', 'G4.wav', 'Gs4_Ab4.wav', 'A4.wav', 'Cs5_Db5.wav', 'Ds5_Eb5.wav']\n"
     ]
    }
   ],
   "source": [
    "# Create destination folder if it doesn't exist\n",
    "destination_folder = '/Volumes/T7/CMU LiMN Research/Perceptual Organization/Perceptual Similarity/complexTone-everydaySound/spreadsheet'\n",
    "if not os.path.exists(destination_folder):\n",
    "    os.makedirs(destination_folder)\n",
    "\n",
    "\n",
    "# Step 1: Define the directory structure and file names\n",
    "complexTone_pth = '/Volumes/T7/CMU LiMN Research/Perceptual Organization/Stimuli exploration/Separated stimulus/replicated stimuli-original study (dif category)/processed stimuli/processed_complex_note_rename'\n",
    "everydaySound_pth = '/Volumes/T7/CMU LiMN Research/Perceptual Organization/Stimuli exploration/Separated stimulus/replicated stimuli-original study (dif category)/processed stimuli/processed_everyday_sound'\n",
    "\n",
    "complex_tone_names = ['C4', 'D4', 'E4', 'Fs4_Gb4', 'G4', 'Gs4_Ab4', 'A4', 'Cs5_Db5', 'Ds5_Eb5']  # Add or adjust as needed\n",
    "#'C4', 'Cs4_Db4', 'D4', 'Ds4_Eb4', 'E4', 'F4', 'Fs4_Gb4', 'G4', 'Gs4_Ab4', 'A4', 'As4_Bb4','B4', 'C5', 'Cs5_Db5', 'D5', 'Ds5_Eb5'\n",
    "everydaysound_names = ['baby_3ms', 'bell_3ms', 'frog_3ms', 'car_engine_3ms', 'cough_3ms', 'snore_3ms', 'sheep_3ms', 'sizzling_pan_3ms', 'laugh_3ms']  # Add or adjust as needed\n",
    "\n",
    "# Check if files exist in the specified directories and store only the filenames\n",
    "complex_tone_files = [f\"{name}.wav\" for name in complex_tone_names if os.path.exists(os.path.join(complexTone_pth, f\"{name}.wav\"))]\n",
    "everydaysound_files = [f\"{name}.wav\" for name in everydaysound_names if os.path.exists(os.path.join(everydaySound_pth, f\"{name}.wav\"))]\n",
    "\n",
    "print(complex_tone_files)\n",
    "# print(len(complex_tone_files))\n",
    "# print(len(everydaysound_files))"
   ]
  },
  {
   "cell_type": "code",
   "execution_count": 3,
   "metadata": {},
   "outputs": [],
   "source": [
    "all_files = complex_tone_files + everydaysound_files\n",
    "\n",
    "# Step 2: Create the CSV file\n",
    "csv_path = os.path.join(destination_folder, 'complexTone_everydaySound.csv')\n",
    "with open(csv_path, 'w', newline='') as csvfile:\n",
    "    fieldnames = ['display', 'A', 'B', 'randomize_trials']\n",
    "    writer = csv.DictWriter(csvfile, fieldnames=fieldnames)\n",
    "    \n",
    "    writer.writeheader()\n",
    "    \n",
    "    # Instructions row\n",
    "    writer.writerow({'display': 'Instructions1', 'A': '', 'B': '', 'randomize_trials': ''})\n",
    "    \n",
    "    # Trials (153 combinations)\n",
    "    for combo in itertools.combinations(all_files, 2):\n",
    "        writer.writerow({'display': 'Trial', 'A': combo[0], 'B': combo[1], 'randomize_trials': '1'})\n",
    "    \n",
    "    # Finish row\n",
    "    writer.writerow({'display': 'Finish', 'A': '', 'B': '', 'randomize_trials': ''})\n"
   ]
  }
 ],
 "metadata": {
  "kernelspec": {
   "display_name": "LiMN",
   "language": "python",
   "name": "python3"
  },
  "language_info": {
   "codemirror_mode": {
    "name": "ipython",
    "version": 3
   },
   "file_extension": ".py",
   "mimetype": "text/x-python",
   "name": "python",
   "nbconvert_exporter": "python",
   "pygments_lexer": "ipython3",
   "version": "3.9.6"
  },
  "orig_nbformat": 4
 },
 "nbformat": 4,
 "nbformat_minor": 2
}
