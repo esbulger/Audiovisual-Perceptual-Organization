{
 "cells": [
  {
   "cell_type": "code",
   "execution_count": 1,
   "metadata": {},
   "outputs": [],
   "source": [
    "import csv\n",
    "import itertools\n",
    "import os"
   ]
  },
  {
   "cell_type": "markdown",
   "metadata": {},
   "source": [
    "### Complex Tones vs Everyday Sounds"
   ]
  },
  {
   "cell_type": "code",
   "execution_count": 2,
   "metadata": {},
   "outputs": [
    {
     "name": "stdout",
     "output_type": "stream",
     "text": [
      "9\n",
      "9\n"
     ]
    }
   ],
   "source": [
    "# Create destination folder if it doesn't exist\n",
    "destination_folder = '/Volumes/T7/CMU LiMN Research/Perceptual Organization/Perceptual Similarity/everydaySound-catSound/spreadsheet'\n",
    "if not os.path.exists(destination_folder):\n",
    "    os.makedirs(destination_folder)\n",
    "\n",
    "\n",
    "# Step 1: Define the directory structure and file names\n",
    "everydaySound_pth = '/Volumes/T7/CMU LiMN Research/Perceptual Organization/Stimuli exploration/Separated stimulus/replicated stimuli-original study (dif category)/processed stimuli/processed_everyday_sound'\n",
    "catSound_pth = '/Volumes/T7/CMU LiMN Research/Perceptual Organization/stimuli exploration/Separated stimulus/animal-sounds (same category)/cat_sounds/6. 300ms loudness normalized cat sounds'\n",
    "\n",
    "everydaysound_names = ['baby_3ms', 'bell_3ms', 'frog_3ms', 'car_engine_3ms', 'cough_3ms', 'snore_3ms', 'sheep_3ms', 'sizzling_pan_3ms', 'laugh_3ms']  # Add or adjust as needed\n",
    "catSound_names = ['1_300ms','5_300ms','8_300ms','11_300ms','17_300ms','18_300ms','24_300ms','25_300ms','26_300ms']\n",
    "\n",
    "# Check if files exist in the specified directories and store only the filenames\n",
    "everydaysound_files = [f\"{name}.wav\" for name in everydaysound_names if os.path.exists(os.path.join(everydaySound_pth, f\"{name}.wav\"))]\n",
    "catSound_files = [f\"{name}.wav\" for name in catSound_names if os.path.exists(os.path.join(catSound_pth, f\"{name}.wav\"))]\n",
    "\n",
    "\n",
    "print(len(catSound_files))\n",
    "print(len(everydaysound_files))"
   ]
  },
  {
   "cell_type": "code",
   "execution_count": 3,
   "metadata": {},
   "outputs": [],
   "source": [
    "all_files = everydaysound_files + catSound_files\n",
    "\n",
    "# Step 2: Create the CSV file\n",
    "csv_path = os.path.join(destination_folder, 'everydaySound_catSound.csv')\n",
    "with open(csv_path, 'w', newline='') as csvfile:\n",
    "    fieldnames = ['display', 'A', 'B', 'randomize_trials']\n",
    "    writer = csv.DictWriter(csvfile, fieldnames=fieldnames)\n",
    "    \n",
    "    writer.writeheader()\n",
    "    \n",
    "    # Instructions row\n",
    "    writer.writerow({'display': 'Instructions3', 'A': '', 'B': '', 'randomize_trials': ''})\n",
    "    \n",
    "    # Trials (153 combinations)\n",
    "    for combo in itertools.combinations(all_files, 2):\n",
    "        writer.writerow({'display': 'Trial', 'A': combo[0], 'B': combo[1], 'randomize_trials': '1'})\n",
    "    \n",
    "    # Finish row\n",
    "    writer.writerow({'display': 'Finish', 'A': '', 'B': '', 'randomize_trials': ''})\n"
   ]
  }
 ],
 "metadata": {
  "kernelspec": {
   "display_name": "LiMN",
   "language": "python",
   "name": "limn"
  },
  "language_info": {
   "codemirror_mode": {
    "name": "ipython",
    "version": 3
   },
   "file_extension": ".py",
   "mimetype": "text/x-python",
   "name": "python",
   "nbconvert_exporter": "python",
   "pygments_lexer": "ipython3",
   "version": "3.9.6"
  },
  "orig_nbformat": 4
 },
 "nbformat": 4,
 "nbformat_minor": 2
}
