{
 "cells": [
  {
   "cell_type": "code",
   "execution_count": 2,
   "metadata": {},
   "outputs": [],
   "source": [
    "import csv\n",
    "import itertools\n",
    "import os\n",
    "import glob"
   ]
  },
  {
   "cell_type": "markdown",
   "metadata": {},
   "source": [
    "### Everyday Sound: Gorilla Experiment spreadsheet for within category"
   ]
  },
  {
   "cell_type": "code",
   "execution_count": 4,
   "metadata": {},
   "outputs": [
    {
     "name": "stdout",
     "output_type": "stream",
     "text": [
      "['baby_3ms.wav', 'bell_3ms.wav', 'brush_teeth_3ms.wav', 'car_engine_3ms.wav', 'car_horn_3ms.wav', 'cough_3ms.wav', 'drink_water_3ms.wav', 'foot_step_3ms.wav', 'frog_3ms.wav', 'laugh_3ms.wav', 'motor_3ms.wav', 'phone_ring_3ms.wav', 'sheep_3ms.wav', 'sizzling_pan_3ms.wav', 'snore_3ms.wav']\n",
      "15\n"
     ]
    }
   ],
   "source": [
    "# Create destination folder if it doesn't exist\n",
    "destination_folder = '/Volumes/T7/CMU LiMN Research/Perceptual Organization/Perceptual Similarity/2. everydaySound/spreadsheet'\n",
    "if not os.path.exists(destination_folder):\n",
    "    os.makedirs(destination_folder)\n",
    "\n",
    "# Extract all the complex tone wav files\n",
    "everydaySound_pth = '/Volumes/T7/CMU LiMN Research/perceptual organization/stimuli exploration/Separated stimulus/replicated stimuli-original study (dif category)/processed stimuli/processed_everyday_sound (no dog)'\n",
    "\n",
    "# Gather all .wav file names in the directory (without directory path)\n",
    "everydaySound_files = [os.path.basename(f) for f in glob.glob(f\"{everydaySound_pth}/**/*.wav\", recursive=True)]\n",
    "\n",
    "# Print the list of file names and the number of files\n",
    "print(everydaySound_files)\n",
    "print(len(everydaySound_files))"
   ]
  },
  {
   "cell_type": "code",
   "execution_count": 5,
   "metadata": {},
   "outputs": [],
   "source": [
    "# Step 2: Create the CSV file\n",
    "csv_path = os.path.join(destination_folder, 'within_everydaySound.csv')\n",
    "with open(csv_path, 'w', newline='') as csvfile:\n",
    "    fieldnames = ['display', 'A', 'B', 'randomize_trials']\n",
    "    writer = csv.DictWriter(csvfile, fieldnames=fieldnames)\n",
    "    \n",
    "    writer.writeheader()\n",
    "    \n",
    "    # Instructions row\n",
    "    writer.writerow({'display': 'Instructions1', 'A': '', 'B': '', 'randomize_trials': ''})\n",
    "    \n",
    "    # Trials (120 combinations)\n",
    "    for combo in itertools.combinations(everydaySound_files, 2):\n",
    "        writer.writerow({'display': 'Trial', 'A': combo[0], 'B': combo[1], 'randomize_trials': '1'})\n",
    "    \n",
    "    # Finish row\n",
    "    writer.writerow({'display': 'Finish', 'A': '', 'B': '', 'randomize_trials': ''})"
   ]
  }
 ],
 "metadata": {
  "kernelspec": {
   "display_name": "LiMN",
   "language": "python",
   "name": "limn"
  },
  "language_info": {
   "codemirror_mode": {
    "name": "ipython",
    "version": 3
   },
   "file_extension": ".py",
   "mimetype": "text/x-python",
   "name": "python",
   "nbconvert_exporter": "python",
   "pygments_lexer": "ipython3",
   "version": "3.9.6"
  }
 },
 "nbformat": 4,
 "nbformat_minor": 2
}
