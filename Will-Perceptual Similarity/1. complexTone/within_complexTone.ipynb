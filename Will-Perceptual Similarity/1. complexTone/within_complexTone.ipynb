{
 "cells": [
  {
   "cell_type": "code",
   "execution_count": 1,
   "metadata": {},
   "outputs": [],
   "source": [
    "import csv\n",
    "import itertools\n",
    "import os\n",
    "import glob"
   ]
  },
  {
   "cell_type": "markdown",
   "metadata": {},
   "source": [
    "### Complex Tone: Gorilla Experiment spreadsheet for within category"
   ]
  },
  {
   "cell_type": "code",
   "execution_count": 7,
   "metadata": {},
   "outputs": [
    {
     "name": "stdout",
     "output_type": "stream",
     "text": [
      "['Cs4_Db4.wav', 'A4.wav', 'B4.wav', 'Cs5_Db5.wav', 'Ds4_Eb4.wav', 'C4.wav', 'C5.wav', 'Ds5_Eb5.wav', 'Fs4_Gb4.wav', 'D4.wav', 'D5.wav', 'E4.wav', 'Gs4_Ab4.wav', 'F4.wav', 'G4.wav', 'As4_Bb4.wav']\n",
      "16\n"
     ]
    }
   ],
   "source": [
    "# Create destination folder if it doesn't exist\n",
    "destination_folder = '/Volumes/T7/CMU LiMN Research/Perceptual Organization/Perceptual Similarity/1. complexTone/spreadsheet'\n",
    "if not os.path.exists(destination_folder):\n",
    "    os.makedirs(destination_folder)\n",
    "\n",
    "# Extract all the complex tone wav files\n",
    "complexTone_pth = '/Volumes/T7/CMU LiMN Research/Perceptual Organization/Stimuli exploration/Separated stimulus/replicated stimuli-original study (dif category)/processed stimuli/processed_complex_note_rename'\n",
    "\n",
    "# Gather all .wav file names in the directory (without directory path)\n",
    "complex_tone_files = [os.path.basename(f) for f in glob.glob(f\"{complexTone_pth}/**/*.wav\", recursive=True)]\n",
    "\n",
    "# Print the list of file names and the number of files\n",
    "print(complex_tone_files)\n",
    "print(len(complex_tone_files))"
   ]
  },
  {
   "cell_type": "code",
   "execution_count": 8,
   "metadata": {},
   "outputs": [],
   "source": [
    "# Step 2: Create the CSV file\n",
    "csv_path = os.path.join(destination_folder, 'within_complexTone.csv')\n",
    "with open(csv_path, 'w', newline='') as csvfile:\n",
    "    fieldnames = ['display', 'A', 'B', 'randomize_trials']\n",
    "    writer = csv.DictWriter(csvfile, fieldnames=fieldnames)\n",
    "    \n",
    "    writer.writeheader()\n",
    "    \n",
    "    # Instructions row\n",
    "    writer.writerow({'display': 'Instructions1', 'A': '', 'B': '', 'randomize_trials': ''})\n",
    "    \n",
    "    # Trials (120 combinations)\n",
    "    for combo in itertools.combinations(complex_tone_files, 2):\n",
    "        writer.writerow({'display': 'Trial', 'A': combo[0], 'B': combo[1], 'randomize_trials': '1'})\n",
    "    \n",
    "    # Finish row\n",
    "    writer.writerow({'display': 'Finish', 'A': '', 'B': '', 'randomize_trials': ''})\n"
   ]
  }
 ],
 "metadata": {
  "kernelspec": {
   "display_name": "LiMN",
   "language": "python",
   "name": "limn"
  },
  "language_info": {
   "codemirror_mode": {
    "name": "ipython",
    "version": 3
   },
   "file_extension": ".py",
   "mimetype": "text/x-python",
   "name": "python",
   "nbconvert_exporter": "python",
   "pygments_lexer": "ipython3",
   "version": "3.9.6"
  }
 },
 "nbformat": 4,
 "nbformat_minor": 2
}
