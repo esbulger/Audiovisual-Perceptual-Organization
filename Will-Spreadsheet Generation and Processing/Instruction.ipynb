{
 "cells": [
  {
   "attachments": {},
   "cell_type": "markdown",
   "metadata": {},
   "source": [
    "### This code generate the instruction spread sheet in Gorilla"
   ]
  },
  {
   "attachments": {},
   "cell_type": "markdown",
   "metadata": {},
   "source": [
    "### Import library and define function"
   ]
  },
  {
   "cell_type": "code",
   "execution_count": 17,
   "metadata": {},
   "outputs": [],
   "source": [
    "import os\n",
    "import glob\n",
    "import random\n",
    "import shutil\n",
    "import openpyxl"
   ]
  },
  {
   "cell_type": "code",
   "execution_count": 18,
   "metadata": {},
   "outputs": [],
   "source": [
    "def combine_rows_from_xlsx_files(source_folder, new_folder):\n",
    "    os.makedirs(new_folder, exist_ok=True)\n",
    "\n",
    "    subfolders = ['len6-fixed', 'len6-rand']\n",
    "    selected_rows = {'len6-fixed': {'_female': 10, '_male': 11}, 'len6-rand': {'_female': 5, '_male': 6}}\n",
    "\n",
    "    new_wb = openpyxl.Workbook()\n",
    "    new_ws = new_wb.active\n",
    "\n",
    "    header_written = False\n",
    "\n",
    "    for subfolder in subfolders:\n",
    "        xlsx_files = [f for f in os.listdir(os.path.join(source_folder, subfolder)) if f.endswith('.xlsx')]\n",
    "\n",
    "        for gender in ['_female', '_male']:\n",
    "            #select xlsx_filw with gender in its name\n",
    "            xlsx_file = next((f for f in xlsx_files if gender in f.lower()), None)\n",
    "            if not xlsx_file:\n",
    "                continue\n",
    "\n",
    "            wb = openpyxl.load_workbook(os.path.join(source_folder, subfolder, xlsx_file))\n",
    "            ws = wb.active\n",
    "\n",
    "            if not header_written:\n",
    "                new_ws.append([cell.value for cell in ws[1]])\n",
    "                header_written = True\n",
    "\n",
    "            selected_row = selected_rows[subfolder][gender]\n",
    "            #print(selected_row)\n",
    "            new_ws.append([cell.value for cell in ws[selected_row]])\n",
    "\n",
    "            # Find the \"Audio_Filename\" column index\n",
    "            audio_filename_col_index = None\n",
    "            for idx, cell in enumerate(ws[1]):\n",
    "                if cell.value == \"Audio_Filename\":\n",
    "                    audio_filename_col_index = idx + 1\n",
    "                    break\n",
    "\n",
    "            if audio_filename_col_index:\n",
    "                audio_filename = ws.cell(row=selected_row, column=audio_filename_col_index).value\n",
    "                audio_file_path = os.path.join(source_folder, subfolder, audio_filename)\n",
    "                if os.path.isfile(audio_file_path):\n",
    "                    new_audio_filename = os.path.splitext(audio_filename)[0] + '_instruction' + os.path.splitext(audio_filename)[1]\n",
    "                    new_audio_file_path = os.path.join(new_folder, new_audio_filename)\n",
    "                    shutil.copy(audio_file_path, new_audio_file_path)\n",
    "\n",
    "                    # Update the \"Audio_Filename\" in the new xlsx file\n",
    "                    new_ws.cell(row=new_ws.max_row, column=audio_filename_col_index).value = new_audio_filename\n",
    "\n",
    "    new_wb.save(os.path.join(new_folder, 'combined_rows.xlsx'))"
   ]
  },
  {
   "cell_type": "code",
   "execution_count": 27,
   "metadata": {},
   "outputs": [],
   "source": [
    "def replace_rows_in_xlsx(copy_xlsx, xlsx_file1, xlsx_file2, output_folder, name):\n",
    "    os.makedirs(output_folder, exist_ok=True)\n",
    "    \n",
    "    copy_wb = openpyxl.load_workbook(copy_xlsx)\n",
    "    copy_ws = copy_wb.active\n",
    "\n",
    "    wb1 = openpyxl.load_workbook(xlsx_file1)\n",
    "    ws1 = wb1.active\n",
    "    wb2 = openpyxl.load_workbook(xlsx_file2)\n",
    "    ws2 = wb2.active\n",
    "\n",
    "    non_empty_rows1 = [row for row in ws1.iter_rows(min_row=2) if any(cell.value for cell in row)]\n",
    "    non_empty_rows2 = [row for row in ws2.iter_rows(min_row=2) if any(cell.value for cell in row)]\n",
    "\n",
    "    replace_rows_copy = {4: 0, 6: 0, 8: 1, 10: 2, 12: 3, 15: 0, 17: 0, 19: 1, 21: 2, 23: 3}\n",
    "\n",
    "    for row_num, source_row in replace_rows_copy.items():\n",
    "        if row_num < 15:\n",
    "            source_ws = ws1\n",
    "            source_row_data = non_empty_rows1[source_row]\n",
    "        else:\n",
    "            source_ws = ws2\n",
    "            source_row_data = non_empty_rows2[source_row]\n",
    "\n",
    "        for idx, cell in enumerate(source_row_data):\n",
    "            copy_ws.cell(row=row_num, column=idx + 1).value = cell.value\n",
    "\n",
    "    output_file = os.path.join(output_folder, 'V4-'+name+'-task-instruction.xlsx')\n",
    "    copy_wb.save(output_file)"
   ]
  },
  {
   "attachments": {},
   "cell_type": "markdown",
   "metadata": {},
   "source": [
    "## AP Instruction"
   ]
  },
  {
   "cell_type": "code",
   "execution_count": 16,
   "metadata": {},
   "outputs": [
    {
     "name": "stdout",
     "output_type": "stream",
     "text": [
      "10\n",
      "11\n",
      "5\n",
      "6\n"
     ]
    }
   ],
   "source": [
    "### AP-Pitch\n",
    "source_folder = \"E:/cmu/lab project/stimuli generation/V4-syllable-4-semitone-interval-10/task_type_ap/Block_5_pitch\"\n",
    "new_folder = \"E:/cmu/lab project/stimuli generation/V4-spread_sheet/Task_AP/AP_4_section_Instruction/Pitch\"\n",
    "if not os.path.exists(new_folder):\n",
    "        os.makedirs(new_folder)\n",
    "\n",
    "combine_rows_from_xlsx_files(source_folder, new_folder)\n",
    "\n",
    "### AP-Word\n",
    "source_folder = \"E:/cmu/lab project/stimuli generation/V4-syllable-4-semitone-interval-10/task_type_ap/Block_5_word\"\n",
    "new_folder = \"E:/cmu/lab project/stimuli generation/V4-spread_sheet/Task_AP/AP_4_section_Instruction/Word\"\n",
    "if not os.path.exists(new_folder):\n",
    "        os.makedirs(new_folder)\n",
    "\n",
    "combine_rows_from_xlsx_files(source_folder, new_folder)"
   ]
  },
  {
   "cell_type": "code",
   "execution_count": 29,
   "metadata": {},
   "outputs": [],
   "source": [
    "copy_xlsx = \"E:/cmu/lab project/stimuli generation/V4-spread_sheet/Task_AP/AP_4_section_Instruction/AP_instruction_template.xlsx\"\n",
    "xlsx_file1 = \"E:/cmu/lab project/stimuli generation/V4-spread_sheet/Task_AP/AP_4_section_Instruction/Pitch/combined_rows.xlsx\"\n",
    "xlsx_file2 = \"E:/cmu/lab project/stimuli generation/V4-spread_sheet/Task_AP/AP_4_section_Instruction/Word/combined_rows.xlsx\"\n",
    "output_folder = \"E:/cmu/lab project/stimuli generation/V4-spread_sheet/Task_AP/AP_4_section_Instruction\"\n",
    "name = 'AP'\n",
    "replace_rows_in_xlsx(copy_xlsx, xlsx_file1, xlsx_file2, output_folder, name)\n"
   ]
  },
  {
   "attachments": {},
   "cell_type": "markdown",
   "metadata": {},
   "source": [
    "## SD Instruction"
   ]
  },
  {
   "cell_type": "code",
   "execution_count": 19,
   "metadata": {},
   "outputs": [
    {
     "name": "stdout",
     "output_type": "stream",
     "text": [
      "10\n",
      "11\n",
      "5\n",
      "6\n"
     ]
    }
   ],
   "source": [
    "# SD-Pitch\n",
    "source_folder = \"E:/cmu/lab project/stimuli generation/V4-syllable-4-semitone-interval-10/task_type_sd/Block_5_pitch\"\n",
    "new_folder = \"E:/cmu/lab project/stimuli generation/V4-spread_sheet/Task_SD/SD_4_section_Instruction/Pitch\"\n",
    "if not os.path.exists(new_folder):\n",
    "        os.makedirs(new_folder)\n",
    "\n",
    "combine_rows_from_xlsx_files(source_folder, new_folder)\n",
    "\n",
    "# SD-Word\n",
    "source_folder = \"E:/cmu/lab project/stimuli generation/V4-syllable-4-semitone-interval-10/task_type_sd/Block_5_word\"\n",
    "new_folder = \"E:/cmu/lab project/stimuli generation/V4-spread_sheet/Task_SD/SD_4_section_Instruction/Word\"\n",
    "if not os.path.exists(new_folder):\n",
    "        os.makedirs(new_folder)\n",
    "\n",
    "combine_rows_from_xlsx_files(source_folder, new_folder)"
   ]
  },
  {
   "cell_type": "code",
   "execution_count": 28,
   "metadata": {},
   "outputs": [],
   "source": [
    "copy_xlsx = \"E:/cmu/lab project/stimuli generation/V4-spread_sheet/Task_SD/SD_4_section_Instruction/SD_instruction_template.xlsx\"\n",
    "xlsx_file1 = \"E:/cmu/lab project/stimuli generation/V4-spread_sheet/Task_SD/SD_4_section_Instruction/Pitch/combined_rows.xlsx\"\n",
    "xlsx_file2 = \"E:/cmu/lab project/stimuli generation/V4-spread_sheet/Task_SD/SD_4_section_Instruction/Word/combined_rows.xlsx\"\n",
    "output_folder = \"E:/cmu/lab project/stimuli generation/V4-spread_sheet/Task_SD/SD_4_section_Instruction\"\n",
    "name = 'SD'\n",
    "replace_rows_in_xlsx(copy_xlsx, xlsx_file1, xlsx_file2, output_folder,name)"
   ]
  }
 ],
 "metadata": {
  "kernelspec": {
   "display_name": "LiMN",
   "language": "python",
   "name": "python3"
  },
  "language_info": {
   "codemirror_mode": {
    "name": "ipython",
    "version": 3
   },
   "file_extension": ".py",
   "mimetype": "text/x-python",
   "name": "python",
   "nbconvert_exporter": "python",
   "pygments_lexer": "ipython3",
   "version": "3.9.6"
  },
  "orig_nbformat": 4
 },
 "nbformat": 4,
 "nbformat_minor": 2
}
