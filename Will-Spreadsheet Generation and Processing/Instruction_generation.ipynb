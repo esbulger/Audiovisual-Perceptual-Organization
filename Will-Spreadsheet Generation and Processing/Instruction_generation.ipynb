{
 "cells": [
  {
   "attachments": {},
   "cell_type": "markdown",
   "metadata": {},
   "source": [
    "### This code generate the instruction spread sheet in Gorilla"
   ]
  },
  {
   "attachments": {},
   "cell_type": "markdown",
   "metadata": {},
   "source": [
    "### Import library and define function"
   ]
  },
  {
   "cell_type": "code",
   "execution_count": 22,
   "metadata": {},
   "outputs": [],
   "source": [
    "import os\n",
    "import glob\n",
    "import random\n",
    "import shutil\n",
    "import openpyxl"
   ]
  },
  {
   "cell_type": "code",
   "execution_count": 23,
   "metadata": {},
   "outputs": [],
   "source": [
    "def combine_rows_from_xlsx_files(source_folder, new_folder):\n",
    "    os.makedirs(new_folder, exist_ok=True)\n",
    "\n",
    "    subfolders = ['len4-rand']\n",
    "    selected_rows = {'len4-rand': {'_female': [5, 10], '_male': [6,11]}}\n",
    "\n",
    "    new_wb = openpyxl.Workbook()\n",
    "    new_ws = new_wb.active\n",
    "\n",
    "    header_written = False\n",
    "\n",
    "    for subfolder in subfolders:\n",
    "        xlsx_files = [f for f in os.listdir(os.path.join(source_folder, subfolder)) if f.endswith('.xlsx')]\n",
    "\n",
    "        for gender in ['_female', '_male']:\n",
    "            xlsx_file = next((f for f in xlsx_files if gender in f.lower()), None)\n",
    "            if not xlsx_file:\n",
    "                continue\n",
    "\n",
    "            wb = openpyxl.load_workbook(os.path.join(source_folder, subfolder, xlsx_file))\n",
    "            ws = wb.active\n",
    "\n",
    "            if not header_written:\n",
    "                new_ws.append([cell.value for cell in ws[1]])\n",
    "                header_written = True\n",
    "\n",
    "            selected_rows_list = selected_rows[subfolder][gender]\n",
    "\n",
    "            # Find the \"Audio_Filename\" column index\n",
    "            audio_filename_col_index = None\n",
    "            for idx, cell in enumerate(ws[1]):\n",
    "                if cell.value == \"Audio_Filename\":\n",
    "                    audio_filename_col_index = idx + 1\n",
    "                    break\n",
    "\n",
    "            for selected_row in selected_rows_list:\n",
    "                new_ws.append([cell.value for cell in ws[selected_row]])\n",
    "\n",
    "                if audio_filename_col_index:\n",
    "                    audio_filename = ws.cell(row=selected_row, column=audio_filename_col_index).value\n",
    "                    audio_file_path = os.path.join(source_folder, subfolder, audio_filename)\n",
    "                    if os.path.isfile(audio_file_path):\n",
    "                        new_audio_filename = os.path.splitext(audio_filename)[0] + '_instruction' + os.path.splitext(audio_filename)[1]\n",
    "                        new_audio_file_path = os.path.join(new_folder, new_audio_filename)\n",
    "                        shutil.copy(audio_file_path, new_audio_file_path)\n",
    "\n",
    "                        # Update the \"Audio_Filename\" in the new xlsx file\n",
    "                        new_ws.cell(row=new_ws.max_row, column=audio_filename_col_index).value = new_audio_filename\n",
    "\n",
    "    new_wb.save(os.path.join(new_folder, 'combined_rows.xlsx'))\n"
   ]
  },
  {
   "cell_type": "code",
   "execution_count": 19,
   "metadata": {},
   "outputs": [],
   "source": [
    "# def combine_rows_from_xlsx_files(source_folder, new_folder):\n",
    "#     os.makedirs(new_folder, exist_ok=True)\n",
    "\n",
    "#     # subfolders = ['len6-fixed', 'len6-rand']\n",
    "#     # selected_rows = {'len6-fixed': {'_female': 10, '_male': 11}, 'len6-rand': {'_female': 5, '_male': 6}}\n",
    "\n",
    "#     subfolders = ['len4-rand']\n",
    "#     selected_rows = {'len4-rand': {'_female': [5, 10], '_male': [6,11]}} \n",
    "\n",
    "#     new_wb = openpyxl.Workbook()\n",
    "#     new_ws = new_wb.active\n",
    "\n",
    "#     header_written = False\n",
    "\n",
    "#     for subfolder in subfolders:\n",
    "#         xlsx_files = [f for f in os.listdir(os.path.join(source_folder, subfolder)) if f.endswith('.xlsx')]\n",
    "\n",
    "#         for gender in ['_female', '_male']:\n",
    "#             #select xlsx_filw with gender in its name\n",
    "#             xlsx_file = next((f for f in xlsx_files if gender in f.lower()), None)\n",
    "#             if not xlsx_file:\n",
    "#                 continue\n",
    "\n",
    "#             wb = openpyxl.load_workbook(os.path.join(source_folder, subfolder, xlsx_file))\n",
    "#             ws = wb.active\n",
    "\n",
    "#             if not header_written:\n",
    "#                 new_ws.append([cell.value for cell in ws[1]])\n",
    "#                 header_written = True\n",
    "\n",
    "#             selected_row = selected_rows[subfolder][gender]\n",
    "#             #print(selected_row)\n",
    "#             new_ws.append([cell.value for cell in ws[selected_row]])\n",
    "\n",
    "#             # Find the \"Audio_Filename\" column index\n",
    "#             audio_filename_col_index = None\n",
    "#             for idx, cell in enumerate(ws[1]):\n",
    "#                 if cell.value == \"Audio_Filename\":\n",
    "#                     audio_filename_col_index = idx + 1\n",
    "#                     break\n",
    "\n",
    "#             if audio_filename_col_index:\n",
    "#                 audio_filename = ws.cell(row=selected_row, column=audio_filename_col_index).value\n",
    "#                 audio_file_path = os.path.join(source_folder, subfolder, audio_filename)\n",
    "#                 if os.path.isfile(audio_file_path):\n",
    "#                     new_audio_filename = os.path.splitext(audio_filename)[0] + '_instruction' + os.path.splitext(audio_filename)[1]\n",
    "#                     new_audio_file_path = os.path.join(new_folder, new_audio_filename)\n",
    "#                     shutil.copy(audio_file_path, new_audio_file_path)\n",
    "\n",
    "#                     # Update the \"Audio_Filename\" in the new xlsx file\n",
    "#                     new_ws.cell(row=new_ws.max_row, column=audio_filename_col_index).value = new_audio_filename\n",
    "\n",
    "#     new_wb.save(os.path.join(new_folder, 'combined_rows.xlsx'))"
   ]
  },
  {
   "cell_type": "code",
   "execution_count": 24,
   "metadata": {},
   "outputs": [],
   "source": [
    "def replace_rows_in_xlsx(copy_xlsx, xlsx_file1, xlsx_file2, output_folder, name):\n",
    "    os.makedirs(output_folder, exist_ok=True)\n",
    "    \n",
    "    copy_wb = openpyxl.load_workbook(copy_xlsx)\n",
    "    copy_ws = copy_wb.active\n",
    "\n",
    "    wb1 = openpyxl.load_workbook(xlsx_file1)\n",
    "    ws1 = wb1.active\n",
    "    wb2 = openpyxl.load_workbook(xlsx_file2)\n",
    "    ws2 = wb2.active\n",
    "\n",
    "    non_empty_rows1 = [row for row in ws1.iter_rows(min_row=2) if any(cell.value for cell in row)]\n",
    "    non_empty_rows2 = [row for row in ws2.iter_rows(min_row=2) if any(cell.value for cell in row)]\n",
    "\n",
    "    replace_rows_copy = {4: 0, 6: 0, 8: 1, 10: 2, 12: 3, 15: 0, 17: 0, 19: 1, 21: 2, 23: 3}\n",
    "\n",
    "    for row_num, source_row in replace_rows_copy.items():\n",
    "        if row_num < 15:\n",
    "            source_ws = ws1\n",
    "            source_row_data = non_empty_rows1[source_row]\n",
    "        else:\n",
    "            source_ws = ws2\n",
    "            source_row_data = non_empty_rows2[source_row]\n",
    "\n",
    "        for idx, cell in enumerate(source_row_data):\n",
    "            copy_ws.cell(row=row_num, column=idx + 1).value = cell.value\n",
    "\n",
    "    output_file = os.path.join(output_folder, 'V4-'+name+'-task-instruction.xlsx')\n",
    "    copy_wb.save(output_file)"
   ]
  },
  {
   "attachments": {},
   "cell_type": "markdown",
   "metadata": {},
   "source": [
    "## AP Instruction"
   ]
  },
  {
   "cell_type": "code",
   "execution_count": 27,
   "metadata": {},
   "outputs": [],
   "source": [
    "### AP-Pitch\n",
    "source_folder = \"E:/cmu/lab project/stimuli generation/V5-syllable-4-semitone-interval-10-rand/task_type_ap/Block_2_pitch\"\n",
    "new_folder = \"E:/cmu/lab project/stimuli generation/V5-spread_sheet/Task_AP/AP_2_section_Instruction/Pitch\"\n",
    "#source_folder = \"E:/cmu/lab project/stimuli generation/V4-syllable-4-semitone-interval-10/task_type_ap/Block_5_pitch\"\n",
    "#new_folder = \"E:/cmu/lab project/stimuli generation/V4-spread_sheet/Task_AP/AP_4_section_Instruction/Pitch\"\n",
    "if not os.path.exists(new_folder):\n",
    "        os.makedirs(new_folder)\n",
    "\n",
    "combine_rows_from_xlsx_files(source_folder, new_folder)\n",
    "\n",
    "### AP-Word\n",
    "source_folder = \"E:/cmu/lab project/stimuli generation/V5-syllable-4-semitone-interval-10-rand/task_type_ap/Block_1_word\"\n",
    "new_folder = \"E:/cmu/lab project/stimuli generation/V5-spread_sheet/Task_AP/AP_2_section_Instruction/Word\"\n",
    "# source_folder = \"E:/cmu/lab project/stimuli generation/V4-syllable-4-semitone-interval-10/task_type_ap/Block_5_word\"\n",
    "# new_folder = \"E:/cmu/lab project/stimuli generation/V4-spread_sheet/Task_AP/AP_4_section_Instruction/Word\"\n",
    "if not os.path.exists(new_folder):\n",
    "        os.makedirs(new_folder)\n",
    "\n",
    "combine_rows_from_xlsx_files(source_folder, new_folder)"
   ]
  },
  {
   "cell_type": "code",
   "execution_count": 28,
   "metadata": {},
   "outputs": [
    {
     "ename": "FileNotFoundError",
     "evalue": "[Errno 2] No such file or directory: 'E:/cmu/lab project/stimuli generation/V4-spread_sheet/Task_AP/AP_4_section_Instruction/AP_instruction_template.xlsx'",
     "output_type": "error",
     "traceback": [
      "\u001b[1;31m---------------------------------------------------------------------------\u001b[0m",
      "\u001b[1;31mFileNotFoundError\u001b[0m                         Traceback (most recent call last)",
      "Cell \u001b[1;32mIn[28], line 6\u001b[0m\n\u001b[0;32m      4\u001b[0m output_folder \u001b[39m=\u001b[39m \u001b[39m\"\u001b[39m\u001b[39mE:/cmu/lab project/stimuli generation/V5-spread_sheet/Task_AP/AP_2_section_Instruction\u001b[39m\u001b[39m\"\u001b[39m\n\u001b[0;32m      5\u001b[0m name \u001b[39m=\u001b[39m \u001b[39m'\u001b[39m\u001b[39mAP\u001b[39m\u001b[39m'\u001b[39m\n\u001b[1;32m----> 6\u001b[0m replace_rows_in_xlsx(copy_xlsx, xlsx_file1, xlsx_file2, output_folder, name)\n",
      "Cell \u001b[1;32mIn[24], line 4\u001b[0m, in \u001b[0;36mreplace_rows_in_xlsx\u001b[1;34m(copy_xlsx, xlsx_file1, xlsx_file2, output_folder, name)\u001b[0m\n\u001b[0;32m      1\u001b[0m \u001b[39mdef\u001b[39;00m \u001b[39mreplace_rows_in_xlsx\u001b[39m(copy_xlsx, xlsx_file1, xlsx_file2, output_folder, name):\n\u001b[0;32m      2\u001b[0m     os\u001b[39m.\u001b[39mmakedirs(output_folder, exist_ok\u001b[39m=\u001b[39m\u001b[39mTrue\u001b[39;00m)\n\u001b[1;32m----> 4\u001b[0m     copy_wb \u001b[39m=\u001b[39m openpyxl\u001b[39m.\u001b[39;49mload_workbook(copy_xlsx)\n\u001b[0;32m      5\u001b[0m     copy_ws \u001b[39m=\u001b[39m copy_wb\u001b[39m.\u001b[39mactive\n\u001b[0;32m      7\u001b[0m     wb1 \u001b[39m=\u001b[39m openpyxl\u001b[39m.\u001b[39mload_workbook(xlsx_file1)\n",
      "File \u001b[1;32mc:\\Users\\l2016\\Anaconda3\\envs\\LiMN\\lib\\site-packages\\openpyxl\\reader\\excel.py:315\u001b[0m, in \u001b[0;36mload_workbook\u001b[1;34m(filename, read_only, keep_vba, data_only, keep_links)\u001b[0m\n\u001b[0;32m    288\u001b[0m \u001b[39mdef\u001b[39;00m \u001b[39mload_workbook\u001b[39m(filename, read_only\u001b[39m=\u001b[39m\u001b[39mFalse\u001b[39;00m, keep_vba\u001b[39m=\u001b[39mKEEP_VBA,\n\u001b[0;32m    289\u001b[0m                   data_only\u001b[39m=\u001b[39m\u001b[39mFalse\u001b[39;00m, keep_links\u001b[39m=\u001b[39m\u001b[39mTrue\u001b[39;00m):\n\u001b[0;32m    290\u001b[0m \u001b[39m    \u001b[39m\u001b[39m\"\"\"Open the given filename and return the workbook\u001b[39;00m\n\u001b[0;32m    291\u001b[0m \n\u001b[0;32m    292\u001b[0m \u001b[39m    :param filename: the path to open or a file-like object\u001b[39;00m\n\u001b[1;32m   (...)\u001b[0m\n\u001b[0;32m    313\u001b[0m \n\u001b[0;32m    314\u001b[0m \u001b[39m    \"\"\"\u001b[39;00m\n\u001b[1;32m--> 315\u001b[0m     reader \u001b[39m=\u001b[39m ExcelReader(filename, read_only, keep_vba,\n\u001b[0;32m    316\u001b[0m                         data_only, keep_links)\n\u001b[0;32m    317\u001b[0m     reader\u001b[39m.\u001b[39mread()\n\u001b[0;32m    318\u001b[0m     \u001b[39mreturn\u001b[39;00m reader\u001b[39m.\u001b[39mwb\n",
      "File \u001b[1;32mc:\\Users\\l2016\\Anaconda3\\envs\\LiMN\\lib\\site-packages\\openpyxl\\reader\\excel.py:124\u001b[0m, in \u001b[0;36mExcelReader.__init__\u001b[1;34m(self, fn, read_only, keep_vba, data_only, keep_links)\u001b[0m\n\u001b[0;32m    122\u001b[0m \u001b[39mdef\u001b[39;00m \u001b[39m__init__\u001b[39m(\u001b[39mself\u001b[39m,  fn, read_only\u001b[39m=\u001b[39m\u001b[39mFalse\u001b[39;00m, keep_vba\u001b[39m=\u001b[39mKEEP_VBA,\n\u001b[0;32m    123\u001b[0m               data_only\u001b[39m=\u001b[39m\u001b[39mFalse\u001b[39;00m, keep_links\u001b[39m=\u001b[39m\u001b[39mTrue\u001b[39;00m):\n\u001b[1;32m--> 124\u001b[0m     \u001b[39mself\u001b[39m\u001b[39m.\u001b[39marchive \u001b[39m=\u001b[39m _validate_archive(fn)\n\u001b[0;32m    125\u001b[0m     \u001b[39mself\u001b[39m\u001b[39m.\u001b[39mvalid_files \u001b[39m=\u001b[39m \u001b[39mself\u001b[39m\u001b[39m.\u001b[39marchive\u001b[39m.\u001b[39mnamelist()\n\u001b[0;32m    126\u001b[0m     \u001b[39mself\u001b[39m\u001b[39m.\u001b[39mread_only \u001b[39m=\u001b[39m read_only\n",
      "File \u001b[1;32mc:\\Users\\l2016\\Anaconda3\\envs\\LiMN\\lib\\site-packages\\openpyxl\\reader\\excel.py:96\u001b[0m, in \u001b[0;36m_validate_archive\u001b[1;34m(filename)\u001b[0m\n\u001b[0;32m     89\u001b[0m             msg \u001b[39m=\u001b[39m (\u001b[39m'\u001b[39m\u001b[39mopenpyxl does not support \u001b[39m\u001b[39m%s\u001b[39;00m\u001b[39m file format, \u001b[39m\u001b[39m'\u001b[39m\n\u001b[0;32m     90\u001b[0m                    \u001b[39m'\u001b[39m\u001b[39mplease check you can open \u001b[39m\u001b[39m'\u001b[39m\n\u001b[0;32m     91\u001b[0m                    \u001b[39m'\u001b[39m\u001b[39mit with Excel first. \u001b[39m\u001b[39m'\u001b[39m\n\u001b[0;32m     92\u001b[0m                    \u001b[39m'\u001b[39m\u001b[39mSupported formats are: \u001b[39m\u001b[39m%s\u001b[39;00m\u001b[39m'\u001b[39m) \u001b[39m%\u001b[39m (file_format,\n\u001b[0;32m     93\u001b[0m                                                    \u001b[39m'\u001b[39m\u001b[39m,\u001b[39m\u001b[39m'\u001b[39m\u001b[39m.\u001b[39mjoin(SUPPORTED_FORMATS))\n\u001b[0;32m     94\u001b[0m         \u001b[39mraise\u001b[39;00m InvalidFileException(msg)\n\u001b[1;32m---> 96\u001b[0m archive \u001b[39m=\u001b[39m ZipFile(filename, \u001b[39m'\u001b[39;49m\u001b[39mr\u001b[39;49m\u001b[39m'\u001b[39;49m)\n\u001b[0;32m     97\u001b[0m \u001b[39mreturn\u001b[39;00m archive\n",
      "File \u001b[1;32mc:\\Users\\l2016\\Anaconda3\\envs\\LiMN\\lib\\zipfile.py:1248\u001b[0m, in \u001b[0;36mZipFile.__init__\u001b[1;34m(self, file, mode, compression, allowZip64, compresslevel, strict_timestamps)\u001b[0m\n\u001b[0;32m   1246\u001b[0m \u001b[39mwhile\u001b[39;00m \u001b[39mTrue\u001b[39;00m:\n\u001b[0;32m   1247\u001b[0m     \u001b[39mtry\u001b[39;00m:\n\u001b[1;32m-> 1248\u001b[0m         \u001b[39mself\u001b[39m\u001b[39m.\u001b[39mfp \u001b[39m=\u001b[39m io\u001b[39m.\u001b[39;49mopen(file, filemode)\n\u001b[0;32m   1249\u001b[0m     \u001b[39mexcept\u001b[39;00m \u001b[39mOSError\u001b[39;00m:\n\u001b[0;32m   1250\u001b[0m         \u001b[39mif\u001b[39;00m filemode \u001b[39min\u001b[39;00m modeDict:\n",
      "\u001b[1;31mFileNotFoundError\u001b[0m: [Errno 2] No such file or directory: 'E:/cmu/lab project/stimuli generation/V4-spread_sheet/Task_AP/AP_4_section_Instruction/AP_instruction_template.xlsx'"
     ]
    }
   ],
   "source": [
    "copy_xlsx = \"E:/cmu/lab project/stimuli generation/V4-spread_sheet/Task_AP/AP_4_section_Instruction/AP_instruction_template.xlsx\"\n",
    "xlsx_file1 = \"E:/cmu/lab project/stimuli generation/V5-spread_sheet/Task_AP/AP_2_section_Instruction/Pitch/combined_rows.xlsx\"\n",
    "xlsx_file2 = \"E:/cmu/lab project/stimuli generation/V5-spread_sheet/Task_AP/AP_2_section_Instruction/Word/combined_rows.xlsx\"\n",
    "output_folder = \"E:/cmu/lab project/stimuli generation/V5-spread_sheet/Task_AP/AP_2_section_Instruction\"\n",
    "name = 'AP'\n",
    "replace_rows_in_xlsx(copy_xlsx, xlsx_file1, xlsx_file2, output_folder, name)\n"
   ]
  },
  {
   "attachments": {},
   "cell_type": "markdown",
   "metadata": {},
   "source": [
    "## SD Instruction"
   ]
  },
  {
   "cell_type": "code",
   "execution_count": 29,
   "metadata": {},
   "outputs": [],
   "source": [
    "# SD-Pitch\n",
    "source_folder = \"E:/cmu/lab project/stimuli generation/V5-syllable-4-semitone-interval-10-rand/task_type_sd/Block_2_pitch\"\n",
    "new_folder = \"E:/cmu/lab project/stimuli generation/V5-spread_sheet/Task_SD/SD_2_section_Instruction/Pitch\"\n",
    "# source_folder = \"E:/cmu/lab project/stimuli generation/V4-syllable-4-semitone-interval-10/task_type_sd/Block_5_pitch\"\n",
    "# new_folder = \"E:/cmu/lab project/stimuli generation/V4-spread_sheet/Task_SD/SD_4_section_Instruction/Pitch\"\n",
    "if not os.path.exists(new_folder):\n",
    "        os.makedirs(new_folder)\n",
    "\n",
    "combine_rows_from_xlsx_files(source_folder, new_folder)\n",
    "\n",
    "# SD-Word\n",
    "# source_folder = \"E:/cmu/lab project/stimuli generation/V4-syllable-4-semitone-interval-10/task_type_sd/Block_5_word\"\n",
    "# new_folder = \"E:/cmu/lab project/stimuli generation/V4-spread_sheet/Task_SD/SD_4_section_Instruction/Word\"\n",
    "source_folder = \"E:/cmu/lab project/stimuli generation/V5-syllable-4-semitone-interval-10-rand/task_type_sd/Block_1_word\"\n",
    "new_folder = \"E:/cmu/lab project/stimuli generation/V5-spread_sheet/Task_SD/SD_2_section_Instruction/Word\"\n",
    "if not os.path.exists(new_folder):\n",
    "        os.makedirs(new_folder)\n",
    "\n",
    "combine_rows_from_xlsx_files(source_folder, new_folder)"
   ]
  },
  {
   "cell_type": "code",
   "execution_count": 28,
   "metadata": {},
   "outputs": [],
   "source": [
    "copy_xlsx = \"E:/cmu/lab project/stimuli generation/V4-spread_sheet/Task_SD/SD_4_section_Instruction/SD_instruction_template.xlsx\"\n",
    "xlsx_file1 = \"E:/cmu/lab project/stimuli generation/V5-spread_sheet/Task_SD/SD_2_section_Instruction/Pitch/combined_rows.xlsx\"\n",
    "xlsx_file2 = \"E:/cmu/lab project/stimuli generation/V5-spread_sheet/Task_SD/SD_2_section_Instruction/Word/combined_rows.xlsx\"\n",
    "output_folder = \"E:/cmu/lab project/stimuli generation/V5-spread_sheet/Task_SD/SD_2_section_Instruction\"\n",
    "name = 'SD'\n",
    "replace_rows_in_xlsx(copy_xlsx, xlsx_file1, xlsx_file2, output_folder,name)"
   ]
  }
 ],
 "metadata": {
  "kernelspec": {
   "display_name": "LiMN",
   "language": "python",
   "name": "python3"
  },
  "language_info": {
   "codemirror_mode": {
    "name": "ipython",
    "version": 3
   },
   "file_extension": ".py",
   "mimetype": "text/x-python",
   "name": "python",
   "nbconvert_exporter": "python",
   "pygments_lexer": "ipython3",
   "version": "3.9.16"
  },
  "orig_nbformat": 4
 },
 "nbformat": 4,
 "nbformat_minor": 2
}
