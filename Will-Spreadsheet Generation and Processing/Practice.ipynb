{
 "cells": [
  {
   "attachments": {},
   "cell_type": "markdown",
   "metadata": {},
   "source": [
    "### This code select the stimuli and generate the practice spreadsheet for gorilla experiment (need to modify the instruction and adopt different task type)"
   ]
  },
  {
   "attachments": {},
   "cell_type": "markdown",
   "metadata": {},
   "source": [
    "### Library & Define function"
   ]
  },
  {
   "cell_type": "code",
   "execution_count": 36,
   "metadata": {},
   "outputs": [],
   "source": [
    "import os\n",
    "import glob\n",
    "import random\n",
    "import shutil\n",
    "import openpyxl"
   ]
  },
  {
   "cell_type": "code",
   "execution_count": 37,
   "metadata": {},
   "outputs": [],
   "source": [
    "def combine_rows_from_xlsx_files(source_folder, new_folder):\n",
    "    os.makedirs(new_folder, exist_ok=True)\n",
    "\n",
    "    subfolders = ['len6-fixed', 'len6-rand']\n",
    "    selected_rows = {'len6-fixed': {'combined': [6, 8]}, 'len6-rand': {'combined': [7, 9]}}\n",
    "    keyword = 'combined'\n",
    "\n",
    "    new_wb = openpyxl.Workbook()\n",
    "    new_ws = new_wb.active\n",
    "\n",
    "    header_written = False\n",
    "\n",
    "    for subfolder in subfolders:\n",
    "        xlsx_files = [f for f in os.listdir(os.path.join(source_folder, subfolder)) if f.endswith('.xlsx')]\n",
    "\n",
    "        # select xlsx_file with keyword in its name\n",
    "        xlsx_file = next((f for f in xlsx_files if keyword in f.lower()), None)\n",
    "        if not xlsx_file:\n",
    "            continue\n",
    "\n",
    "        wb = openpyxl.load_workbook(os.path.join(source_folder, subfolder, xlsx_file))\n",
    "        ws = wb.active\n",
    "\n",
    "        if not header_written:\n",
    "            new_ws.append([cell.value for cell in ws[1]])\n",
    "            header_written = True\n",
    "\n",
    "        for selected_row in selected_rows[subfolder][keyword]:\n",
    "            new_ws.append([cell.value for cell in ws[selected_row]])\n",
    "\n",
    "            # Find the \"Audio_Filename\" column index\n",
    "            audio_filename_col_index = None\n",
    "            for idx, cell in enumerate(ws[1]):\n",
    "                if cell.value == \"Audio_Filename\":\n",
    "                    audio_filename_col_index = idx + 1\n",
    "                    break\n",
    "\n",
    "            if audio_filename_col_index:\n",
    "                audio_filename = ws.cell(row=selected_row, column=audio_filename_col_index).value\n",
    "                audio_file_path = os.path.join(source_folder, subfolder, audio_filename)\n",
    "                if os.path.isfile(audio_file_path):\n",
    "                    new_audio_filename = os.path.splitext(audio_filename)[0] + '_prac' + os.path.splitext(audio_filename)[1]\n",
    "                    new_audio_file_path = os.path.join(new_folder, new_audio_filename)\n",
    "                    shutil.copy(audio_file_path, new_audio_file_path)\n",
    "\n",
    "                    # Update the \"Audio_Filename\" in the new xlsx file\n",
    "                    new_ws.cell(row=new_ws.max_row, column=audio_filename_col_index).value = new_audio_filename\n",
    "\n",
    "    new_wb.save(os.path.join(new_folder, 'combined_rows_prac.xlsx'))"
   ]
  },
  {
   "cell_type": "code",
   "execution_count": 38,
   "metadata": {},
   "outputs": [],
   "source": [
    "def create_combined_xlsx(file1, file2, new_folder, input_string, file_name, task_type):\n",
    "    # Load workbooks and worksheets\n",
    "    wb1 = openpyxl.load_workbook(file1)\n",
    "    ws1 = wb1.active\n",
    "\n",
    "    wb2 = openpyxl.load_workbook(file2)\n",
    "    ws2 = wb2.active\n",
    "\n",
    "    new_wb = openpyxl.Workbook()\n",
    "    new_ws = new_wb.active\n",
    "\n",
    "    # 1. Copy the header from the 1st xlsx\n",
    "    header = [cell.value for cell in ws1[1]]\n",
    "    new_ws.append(header)\n",
    "\n",
    "    # Find 'display', 'text', 'randomise_trials', and 'embedded' column indices\n",
    "    display_col_index = header.index('display') + 1\n",
    "    text_col_index = header.index('text') + 1\n",
    "    randomise_trials_col_index = header.index('randomise_trials') + 1\n",
    "    embedded_col_index = header.index('embedded') + 1\n",
    "\n",
    "\n",
    "    # 2. Add a line with 'text' under the 'display' column and 'a' under the 'text' column\n",
    "    new_row = [''] * len(header)\n",
    "    new_row[display_col_index - 1] = 'text'\n",
    "    new_row[text_col_index - 1] = '<p style=\"font-size: 32px;\"> In this practice section, you will hear a sequence of syllables with different pitches, a pause, then a single syllable. Your task is to determine whether the PITCH itself was present or absent from the sequence. </p>'\n",
    "    new_ws.append(new_row)\n",
    "\n",
    "    # 3. Copy all the nonheader lines from the first xlsx file and change the 'embedded' column with input string\n",
    "    for row in ws1.iter_rows(min_row=2):\n",
    "        new_row = [cell.value for cell in row]\n",
    "        new_row[embedded_col_index - 1] = input_string\n",
    "        new_row[display_col_index - 1] = task_type\n",
    "        new_ws.append(new_row)\n",
    "\n",
    "    # 4. Add a line with 'text' under the 'display' column and 'b' under the 'text' column\n",
    "    new_row = [''] * len(header)\n",
    "    new_row[display_col_index - 1] = 'text'\n",
    "    new_row[text_col_index - 1] = '<p style=\"font-size: 32px;\"> In this final practice section, you will hear a sequence of syllables with different pitches, a pause, then a single syllable. Your task is to determine whether the SYLLABLE itself was present or absent from the sequence. </p>'\n",
    "    new_ws.append(new_row)\n",
    "\n",
    "    # 5. Copy all the nonheader lines from the second xlsx file, change the 'randomise_trials' values to 2, and change the 'embedded' column with input string\n",
    "    for row in ws2.iter_rows(min_row=2):\n",
    "        new_row = [cell.value for cell in row]\n",
    "        new_row[randomise_trials_col_index - 1] = 2\n",
    "        new_row[embedded_col_index - 1] = input_string\n",
    "        new_row[display_col_index - 1] = task_type\n",
    "        new_ws.append(new_row)\n",
    "\n",
    "    new_wb.save(os.path.join(new_folder, file_name))"
   ]
  },
  {
   "attachments": {},
   "cell_type": "markdown",
   "metadata": {},
   "source": [
    "### AP"
   ]
  },
  {
   "cell_type": "code",
   "execution_count": 39,
   "metadata": {},
   "outputs": [],
   "source": [
    "### AP-Pitch\n",
    "source_folder = \"E:/cmu/lab project/stimuli generation/V4-syllable-4-semitone-interval-10/task_type_ap/Block_5_pitch\"\n",
    "new_folder = \"E:/cmu/lab project/stimuli generation/V4-spread_sheet/Task_AP/AP_4_section_Practice/Pitch\"\n",
    "if not os.path.exists(new_folder):\n",
    "        os.makedirs(new_folder)\n",
    "\n",
    "combine_rows_from_xlsx_files(source_folder, new_folder)\n",
    "\n",
    "### AP-Word\n",
    "source_folder = \"E:/cmu/lab project/stimuli generation/V4-syllable-4-semitone-interval-10/task_type_ap/Block_5_word\"\n",
    "new_folder = \"E:/cmu/lab project/stimuli generation/V4-spread_sheet/Task_AP/AP_4_section_Practice/Word\"\n",
    "if not os.path.exists(new_folder):\n",
    "        os.makedirs(new_folder)\n",
    "\n",
    "combine_rows_from_xlsx_files(source_folder, new_folder)"
   ]
  },
  {
   "cell_type": "code",
   "execution_count": 40,
   "metadata": {},
   "outputs": [],
   "source": [
    "### create the pratice 1\n",
    "file1 = \"E:/cmu/lab project/stimuli generation/V4-spread_sheet/Task_AP/AP_4_section_Practice/Pitch/combined_rows_prac.xlsx\"\n",
    "file2 = \"E:/cmu/lab project/stimuli generation/V4-spread_sheet/Task_AP/AP_4_section_Practice/Word/combined_rows_prac.xlsx\"\n",
    "output_file = \"E:/cmu/lab project/stimuli generation/V4-spread_sheet/Task_AP/AP_4_section_Practice\"\n",
    "if not os.path.exists(output_file):\n",
    "        os.makedirs(output_file)\n",
    "\n",
    "create_combined_xlsx(file1, file2, output_file,'prac_corr','AP_practice1.xlsx', 'task-ap-feedback')\n",
    "### create the pratice 2\n",
    "create_combined_xlsx(file1, file2, output_file,'prac_corr2','AP_practice2.xlsx', 'task-ap-feedback')"
   ]
  },
  {
   "attachments": {},
   "cell_type": "markdown",
   "metadata": {},
   "source": [
    "### SD"
   ]
  },
  {
   "cell_type": "code",
   "execution_count": 41,
   "metadata": {},
   "outputs": [],
   "source": [
    "### SD-Pitch\n",
    "source_folder = \"E:/cmu/lab project/stimuli generation/V4-syllable-4-semitone-interval-10/task_type_sd/Block_5_pitch\"\n",
    "new_folder = \"E:/cmu/lab project/stimuli generation/V4-spread_sheet/Task_SD/SD_4_section_Practice/Pitch\"\n",
    "if not os.path.exists(new_folder):\n",
    "        os.makedirs(new_folder)\n",
    "\n",
    "combine_rows_from_xlsx_files(source_folder, new_folder)\n",
    "\n",
    "### SD-Word\n",
    "source_folder = \"E:/cmu/lab project/stimuli generation/V4-syllable-4-semitone-interval-10/task_type_sd/Block_5_word\"\n",
    "new_folder = \"E:/cmu/lab project/stimuli generation/V4-spread_sheet/Task_SD/SD_4_section_Practice/Word\"\n",
    "if not os.path.exists(new_folder):\n",
    "        os.makedirs(new_folder)\n",
    "\n",
    "combine_rows_from_xlsx_files(source_folder, new_folder)"
   ]
  },
  {
   "cell_type": "code",
   "execution_count": 42,
   "metadata": {},
   "outputs": [],
   "source": [
    "### create the pratice 1\n",
    "file1 = \"E:/cmu/lab project/stimuli generation/V4-spread_sheet/Task_SD/SD_4_section_Practice/Pitch/combined_rows_prac.xlsx\"\n",
    "file2 = \"E:/cmu/lab project/stimuli generation/V4-spread_sheet/Task_SD/SD_4_section_Practice/Word/combined_rows_prac.xlsx\"\n",
    "output_file = \"E:/cmu/lab project/stimuli generation/V4-spread_sheet/Task_SD/SD_4_section_Practice\"\n",
    "if not os.path.exists(output_file):\n",
    "        os.makedirs(output_file)\n",
    "\n",
    "create_combined_xlsx(file1, file2, output_file,'prac_corr','SD_practice1.xlsx', 'task-sd-feedback')\n",
    "### create the pratice 2\n",
    "create_combined_xlsx(file1, file2, output_file,'prac_corr2','SD_practice2.xlsx', 'task-sd-feedback')"
   ]
  }
 ],
 "metadata": {
  "kernelspec": {
   "display_name": "LiMN",
   "language": "python",
   "name": "python3"
  },
  "language_info": {
   "codemirror_mode": {
    "name": "ipython",
    "version": 3
   },
   "file_extension": ".py",
   "mimetype": "text/x-python",
   "name": "python",
   "nbconvert_exporter": "python",
   "pygments_lexer": "ipython3",
   "version": "3.9.6"
  },
  "orig_nbformat": 4
 },
 "nbformat": 4,
 "nbformat_minor": 2
}
