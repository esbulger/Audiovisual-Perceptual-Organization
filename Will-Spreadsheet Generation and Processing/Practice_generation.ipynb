{
 "cells": [
  {
   "attachments": {},
   "cell_type": "markdown",
   "metadata": {},
   "source": [
    "### This code select the stimuli and generate the practice spreadsheet for gorilla experiment (need to change the prompt to adopt different task)"
   ]
  },
  {
   "attachments": {},
   "cell_type": "markdown",
   "metadata": {},
   "source": [
    "### Library & Define function"
   ]
  },
  {
   "cell_type": "code",
   "execution_count": 12,
   "metadata": {},
   "outputs": [],
   "source": [
    "import os\n",
    "import glob\n",
    "import random\n",
    "import shutil\n",
    "import openpyxl"
   ]
  },
  {
   "cell_type": "code",
   "execution_count": 13,
   "metadata": {},
   "outputs": [],
   "source": [
    "def combine_rows_from_xlsx_files(source_folder, new_folder, subfolders, selected_rows, keyword):\n",
    "    os.makedirs(new_folder, exist_ok=True)\n",
    "\n",
    "    new_wb = openpyxl.Workbook()\n",
    "    new_ws = new_wb.active\n",
    "\n",
    "    header_written = False\n",
    "\n",
    "    for subfolder in subfolders:\n",
    "        xlsx_files = [f for f in os.listdir(os.path.join(source_folder, subfolder)) if f.endswith('.xlsx')]\n",
    "\n",
    "        # select xlsx_file with keyword in its name\n",
    "        xlsx_file = next((f for f in xlsx_files if keyword in f.lower()), None)\n",
    "        if not xlsx_file:\n",
    "            continue\n",
    "\n",
    "        wb = openpyxl.load_workbook(os.path.join(source_folder, subfolder, xlsx_file))\n",
    "        ws = wb.active\n",
    "\n",
    "        if not header_written:\n",
    "            new_ws.append([cell.value for cell in ws[1]])\n",
    "            header_written = True\n",
    "\n",
    "        rows_to_select = random.sample(range(2, ws.max_row + 1), min(ws.max_row - 1, selected_rows))\n",
    "\n",
    "        for selected_row in rows_to_select:\n",
    "            new_ws.append([cell.value for cell in ws[selected_row]])\n",
    "\n",
    "            # Find the \"Audio_Filename\" column index\n",
    "            audio_filename_col_index = None\n",
    "            for idx, cell in enumerate(ws[1]):\n",
    "                if cell.value == \"Audio_Filename\":\n",
    "                    audio_filename_col_index = idx + 1\n",
    "                    break\n",
    "\n",
    "            if audio_filename_col_index:\n",
    "                audio_filename = ws.cell(row=selected_row, column=audio_filename_col_index).value\n",
    "                audio_file_path = os.path.join(source_folder, subfolder, audio_filename)\n",
    "                if os.path.isfile(audio_file_path):\n",
    "                    new_audio_filename = os.path.splitext(audio_filename)[0] + '_prac' + os.path.splitext(audio_filename)[1]\n",
    "                    new_audio_file_path = os.path.join(new_folder, new_audio_filename)\n",
    "                    shutil.copy(audio_file_path, new_audio_file_path)\n",
    "\n",
    "                    # Update the \"Audio_Filename\" in the new xlsx file\n",
    "                    new_ws.cell(row=new_ws.max_row, column=audio_filename_col_index).value = new_audio_filename\n",
    "\n",
    "    new_wb.save(os.path.join(new_folder, 'combined_rows_prac.xlsx'))\n"
   ]
  },
  {
   "cell_type": "code",
   "execution_count": 3,
   "metadata": {},
   "outputs": [],
   "source": [
    "def create_combined_xlsx(file1, file2, new_folder, input_string, file_name, task_type):\n",
    "    AP_intro = '<p style=\"font-size: 32px;\"> In this practice section, you will hear a sequence of complex tones/everyday sounds, a pause, then a single complex tone/everyday sound. Your task is to determine whether the single complex tone/everyday sound was present or absent from the sequence. </p>'\n",
    "    SD_intro = '<p style=\"font-size: 32px;\"> In this practice section, you will hear a sequence of complex tones/everyday sounds, a pause, then a second sequence of complex tone/everyday sound. Your task is to determine whether the 2nd sequence of complex tone/everyday sound was same or different from the 1st sequence. </p>'\n",
    "    # Load workbooks and worksheets\n",
    "    wb1 = openpyxl.load_workbook(file1)\n",
    "    ws1 = wb1.active\n",
    "\n",
    "    wb2 = openpyxl.load_workbook(file2)\n",
    "    ws2 = wb2.active\n",
    "\n",
    "    new_wb = openpyxl.Workbook()\n",
    "    new_ws = new_wb.active\n",
    "\n",
    "    # 1. Copy the header from the 1st xlsx\n",
    "    header = [cell.value for cell in ws1[1]]\n",
    "    new_ws.append(header)\n",
    "\n",
    "    # Find 'display', 'text', 'randomise_trials', and 'embedded' column indices\n",
    "    display_col_index = header.index('display') + 1\n",
    "    text_col_index = header.index('text') + 1\n",
    "    randomise_trials_col_index = header.index('randomise_trials') + 1\n",
    "    embedded_col_index = header.index('embedded') + 1\n",
    "\n",
    "\n",
    "    # 2. Add a line with 'text' under the 'display' column and 'a' under the 'text' column\n",
    "    new_row = [''] * len(header)\n",
    "    new_row[display_col_index - 1] = 'text'\n",
    "    #new_row[text_col_index - 1] = '<p style=\"font-size: 32px;\"> In this practice section, you will hear a sequence of syllables with different pitches, a pause, then a single syllable. Your task is to determine whether the PITCH itself was present or absent from the sequence. </p>'\n",
    "    new_row[text_col_index - 1] = AP_intro if task_type in ['task-ap-feedback'] else SD_intro\n",
    "    new_ws.append(new_row)\n",
    "\n",
    "    # 3. Copy all the nonheader lines from the first xlsx file and change the 'embedded' column with input string\n",
    "    for row in ws1.iter_rows(min_row=2):\n",
    "        new_row = [cell.value for cell in row]\n",
    "        new_row[embedded_col_index - 1] = input_string\n",
    "        new_row[display_col_index - 1] = task_type\n",
    "        new_ws.append(new_row)\n",
    "\n",
    "    # 4. Add a line with 'text' under the 'display' column and 'b' under the 'text' column\n",
    "    new_row = [''] * len(header)\n",
    "    new_row[display_col_index - 1] = 'text'\n",
    "    #new_row[text_col_index - 1] = '<p style=\"font-size: 32px;\"> In this final practice section, you will hear a sequence of syllables with different pitches, a pause, then a single syllable. Your task is to determine whether the SYLLABLE itself was present or absent from the sequence. </p>'\n",
    "    new_row[text_col_index - 1] = AP_intro if task_type in ['task-ap-feedback'] else SD_intro\n",
    "    new_ws.append(new_row)\n",
    "\n",
    "    # 5. Copy all the nonheader lines from the second xlsx file, change the 'randomise_trials' values to 2, and change the 'embedded' column with input string\n",
    "    for row in ws2.iter_rows(min_row=2):\n",
    "        new_row = [cell.value for cell in row]\n",
    "        new_row[randomise_trials_col_index - 1] = 2\n",
    "        new_row[embedded_col_index - 1] = input_string\n",
    "        new_row[display_col_index - 1] = task_type\n",
    "        new_ws.append(new_row)\n",
    "\n",
    "    new_wb.save(os.path.join(new_folder, file_name))"
   ]
  },
  {
   "attachments": {},
   "cell_type": "markdown",
   "metadata": {},
   "source": [
    "### AP"
   ]
  },
  {
   "cell_type": "markdown",
   "metadata": {},
   "source": [
    "#### Pitch and syllable"
   ]
  },
  {
   "cell_type": "code",
   "execution_count": 4,
   "metadata": {},
   "outputs": [],
   "source": [
    "# ### Parameters\n",
    "# selected_rows = 4  # specify the number of rows to select\n",
    "# keyword = 'combined'  # specify the keyword\n",
    "\n",
    "# ###~~~~~~~~~~~~~~ AP-Pitch ~~~~~~~~~~~~~~~~~\n",
    "# source_folder = \"E:/cmu/lab project/stimuli generation/V5-syllable-4-semitone-interval-10-rand/task_type_ap/Block_2_pitch\"\n",
    "# new_folder = \"E:/cmu/lab project/stimuli generation/V5-spread_sheet/Task_AP/AP_2_section_Practice/Pitch\"\n",
    "\n",
    "# #specify subfolder names\n",
    "# subfolders = ['length5']  # specify the subfolders you want to process\n",
    "# #subfolders = [d for d in os.listdir(source_folder) if os.path.isdir(os.path.join(source_folder, d))] # all subfolders\n",
    "\n",
    "# if not os.path.exists(new_folder):\n",
    "#         os.makedirs(new_folder)\n",
    "\n",
    "# combine_rows_from_xlsx_files(source_folder, new_folder, subfolders, selected_rows, keyword)\n",
    "\n",
    "\n",
    "# ###~~~~~~~~~~~~~~ AP-Word ~~~~~~~~~~~~~~~\n",
    "# source_folder = \"E:/cmu/lab project/stimuli generation/V5-syllable-4-semitone-interval-10-rand/task_type_ap/Block_1_word\"\n",
    "# new_folder = \"E:/cmu/lab project/stimuli generation/V5-spread_sheet/Task_AP/AP_2_section_Practice/Word\"\n",
    "\n",
    "# #specify subfolder names\n",
    "# subfolders = ['length5']  # specify the subfolders you want to process\n",
    "# #subfolders = [d for d in os.listdir(source_folder) if os.path.isdir(os.path.join(source_folder, d))] # all subfolders\n",
    "\n",
    "# if not os.path.exists(new_folder):\n",
    "#         os.makedirs(new_folder)\n",
    "\n",
    "# combine_rows_from_xlsx_files(source_folder, new_folder, subfolders, selected_rows, keyword)"
   ]
  },
  {
   "cell_type": "markdown",
   "metadata": {},
   "source": [
    "#### complex tone vs everyday sound"
   ]
  },
  {
   "cell_type": "code",
   "execution_count": 5,
   "metadata": {},
   "outputs": [],
   "source": [
    "### Parameters\n",
    "selected_rows = 4  # specify the number of rows to select\n",
    "keyword = 'metadata'  # specify the keyword\n",
    "outpath = \"/Volumes/T7/CMU LiMN Research/perceptual organization/stimuli generation/len4-complexTone_everydaySound/output_spread_sheet\"\n",
    "\n",
    "###~~~~~~~~~~~~~~ AP-complex tone ~~~~~~~~~~~~~~~~\n",
    "source_folder = \"/Volumes/T7/CMU LiMN Research/perceptual organization/stimuli generation/len4-complexTone_everydaySound/stimuli/PA/block2_complex_tones\"\n",
    "new_folder = outpath + \"/AP_practice_section/complex_notes\"\n",
    "\n",
    "#specify subfolder names\n",
    "subfolders = ['length4']  # specify the subfolders you want to process\n",
    "#subfolders = [d for d in os.listdir(source_folder) if os.path.isdir(os.path.join(source_folder, d))] # all subfolders\n",
    "\n",
    "if not os.path.exists(new_folder):\n",
    "    os.makedirs(new_folder)\n",
    "\n",
    "combine_rows_from_xlsx_files(source_folder, new_folder, subfolders, selected_rows, keyword)\n",
    "\n",
    "###~~~~~~~~~~~~~ AP-everyday sound ~~~~~~~~~~~~~~~~~~~~\n",
    "source_folder = \"/Volumes/T7/CMU LiMN Research/perceptual organization/stimuli generation/len4-complexTone_everydaySound/stimuli/PA/block1_everyday_sounds\"\n",
    "new_folder = outpath + \"/AP_practice_section/everyday_sounds\"\n",
    "\n",
    "#specify subfolder names\n",
    "subfolders = ['length4']  # specify the subfolders you want to process\n",
    "#subfolders = [d for d in os.listdir(source_folder) if os.path.isdir(os.path.join(source_folder, d))] # all subfolders\n",
    "\n",
    "if not os.path.exists(new_folder):\n",
    "    os.makedirs(new_folder)\n",
    "\n",
    "combine_rows_from_xlsx_files(source_folder, new_folder, subfolders, selected_rows, keyword)"
   ]
  },
  {
   "cell_type": "markdown",
   "metadata": {},
   "source": [
    "#### complex tone vs cat "
   ]
  },
  {
   "cell_type": "code",
   "execution_count": 6,
   "metadata": {},
   "outputs": [],
   "source": [
    "# ### Parameters\n",
    "# selected_rows = 4  # specify the number of rows to select\n",
    "# keyword = 'metadata'  # specify the keyword\n",
    "# outpath = \"/Volumes/T7/CMU LiMN Research/perceptual organization/stimuli generation/len4-complexTone_cat/output_spread_sheet\"\n",
    "\n",
    "# ###~~~~~~~~~~~~~~ AP-complex tone ~~~~~~~~~~~~~~~~ \n",
    "# source_folder = \"/Volumes/T7/CMU LiMN Research/perceptual organization/stimuli generation/len4-complexTone_cat/stimuli/PA/block1_complex_tones\" # Don't choose same block, or randomized block value mixed\n",
    "# new_folder = outpath + \"/AP_practice_section/complex_notes\"\n",
    "\n",
    "# #specify subfolder names\n",
    "# subfolders = ['length4']  # specify the subfolders you want to process\n",
    "# #subfolders = [d for d in os.listdir(source_folder) if os.path.isdir(os.path.join(source_folder, d))] # all subfolders\n",
    "\n",
    "# if not os.path.exists(new_folder):\n",
    "#     os.makedirs(new_folder)\n",
    "\n",
    "# combine_rows_from_xlsx_files(source_folder, new_folder, subfolders, selected_rows, keyword)\n",
    "\n",
    "# ###~~~~~~~~~~~~~ AP-everyday sound ~~~~~~~~~~~~~~~~~~~~\n",
    "# source_folder = \"/Volumes/T7/CMU LiMN Research/perceptual organization/stimuli generation/len4-complexTone_cat/stimuli/PA/block2_cat_mew_sounds\" # Don't choose same block, or randomized block value mixed\n",
    "# new_folder = outpath + \"/AP_practice_section/cat_sounds\"\n",
    "\n",
    "# #specify subfolder names\n",
    "# subfolders = ['length4']  # specify the subfolders you want to process\n",
    "# #subfolders = [d for d in os.listdir(source_folder) if os.path.isdir(os.path.join(source_folder, d))] # all subfolders\n",
    "\n",
    "# if not os.path.exists(new_folder):\n",
    "#     os.makedirs(new_folder)\n",
    "\n",
    "# combine_rows_from_xlsx_files(source_folder, new_folder, subfolders, selected_rows, keyword)"
   ]
  },
  {
   "cell_type": "markdown",
   "metadata": {},
   "source": [
    "#### complex tones vs dog sounds tbd"
   ]
  },
  {
   "cell_type": "code",
   "execution_count": null,
   "metadata": {},
   "outputs": [],
   "source": []
  },
  {
   "cell_type": "markdown",
   "metadata": {},
   "source": [
    "#### merge the practice xlsx and wav files"
   ]
  },
  {
   "cell_type": "code",
   "execution_count": 7,
   "metadata": {},
   "outputs": [],
   "source": [
    "# ### pitch variated syllable\n",
    "# file1 = \"E:/cmu/lab project/stimuli generation/V5-spread_sheet/Task_AP/AP_2_section_Practice/Pitch/combined_rows_prac.xlsx\"\n",
    "# file2 = \"E:/cmu/lab project/stimuli generation/V5-spread_sheet/Task_AP/AP_2_section_Practice/Word/combined_rows_prac.xlsx\"\n",
    "# output_file = \"E:/cmu/lab project/stimuli generation/V5-spread_sheet/Task_AP/AP_2_section_Practice\"\n",
    "\n",
    "### complex note and everyday sound \n",
    "# change the instruction language in the code\n",
    "file1 = \"/Volumes/T7/CMU LiMN Research/perceptual organization/stimuli generation/len4-complexTone_everydaySound/output_spread_sheet/AP_practice_section/complex_notes/combined_rows_prac.xlsx\"\n",
    "file2 = \"/Volumes/T7/CMU LiMN Research/perceptual organization/stimuli generation/len4-complexTone_everydaySound/output_spread_sheet/AP_practice_section/everyday_sounds/combined_rows_prac.xlsx\"\n",
    "output_file = outpath + \"/AP_practice_section\"\n",
    "\n",
    "# ### complex note and cat sound\n",
    "# file1 = \"/Volumes/T7/CMU LiMN Research/perceptual organization/stimuli generation/len4-complexTone_cat/output_spread_sheet/AP_practice_section/complex_notes/combined_rows_prac.xlsx\"\n",
    "# file2 = \"/Volumes/T7/CMU LiMN Research/perceptual organization/stimuli generation/len4-complexTone_cat/output_spread_sheet/AP_practice_section/cat_sounds/combined_rows_prac.xlsx\"\n",
    "# output_file = outpath + \"/AP_practice_section\"\n",
    "\n",
    "\n",
    "if not os.path.exists(output_file):\n",
    "        os.makedirs(output_file)\n",
    "\n",
    "### create the pratice 1\n",
    "create_combined_xlsx(file1, file2, output_file,'prac_corr','AP_practice1.xlsx', 'task-ap-feedback')\n",
    "### create the pratice 2\n",
    "create_combined_xlsx(file1, file2, output_file,'prac_corr2','AP_practice2.xlsx', 'task-ap-feedback')"
   ]
  },
  {
   "attachments": {},
   "cell_type": "markdown",
   "metadata": {},
   "source": [
    "### SD"
   ]
  },
  {
   "cell_type": "markdown",
   "metadata": {},
   "source": [
    "#### pitch variated syllable"
   ]
  },
  {
   "cell_type": "code",
   "execution_count": 8,
   "metadata": {},
   "outputs": [],
   "source": [
    "# ### Parameters\n",
    "# selected_rows = 4  # specify the number of rows to select\n",
    "# keyword = 'combined'  # specify the keyword\n",
    "\n",
    "# ###~~~~~~~~~~~~~~ SD-Pitch ~~~~~~~~~~~~~~~~~\n",
    "# source_folder = \"E:/cmu/lab project/stimuli generation/V5-syllable-4-semitone-interval-10-rand/task_type_sd/Block_2_pitch\"\n",
    "# new_folder = \"E:/cmu/lab project/stimuli generation/V5-spread_sheet/Task_SD/SD_2_section_Practice/Pitch\"\n",
    "\n",
    "# #specify subfolder names\n",
    "# subfolders = ['length5']  # specify the subfolders you want to process\n",
    "# #subfolders = [d for d in os.listdir(source_folder) if os.path.isdir(os.path.join(source_folder, d))] # all subfolders\n",
    "\n",
    "# if not os.path.exists(new_folder):\n",
    "#         os.makedirs(new_folder)\n",
    "\n",
    "# combine_rows_from_xlsx_files(source_folder, new_folder, subfolders, selected_rows, keyword)\n",
    "\n",
    "\n",
    "# ###~~~~~~~~~~~~~~ SD-Word ~~~~~~~~~~~~~~~\n",
    "# source_folder = \"E:/cmu/lab project/stimuli generation/V5-syllable-4-semitone-interval-10-rand/task_type_sd/Block_1_word\"\n",
    "# new_folder = \"E:/cmu/lab project/stimuli generation/V5-spread_sheet/Task_SD/SD_2_section_Practice/Word\"\n",
    "\n",
    "# #specify subfolder names\n",
    "# subfolders = ['length5']  # specify the subfolders you want to process\n",
    "# #subfolders = [d for d in os.listdir(source_folder) if os.path.isdir(os.path.join(source_folder, d))] # all subfolders\n",
    "\n",
    "# if not os.path.exists(new_folder):\n",
    "#         os.makedirs(new_folder)\n",
    "\n",
    "# combine_rows_from_xlsx_files(source_folder, new_folder, subfolders, selected_rows, keyword)"
   ]
  },
  {
   "cell_type": "markdown",
   "metadata": {},
   "source": [
    "#### complex tone vs everyday sound"
   ]
  },
  {
   "cell_type": "code",
   "execution_count": 9,
   "metadata": {},
   "outputs": [],
   "source": [
    "### Parameters\n",
    "selected_rows = 4  # specify the number of rows to select\n",
    "keyword = 'metadata'  # specify the keyword\n",
    "outpath = \"/Volumes/T7/CMU LiMN Research/perceptual organization/stimuli generation/len4-complexTone_everydaySound/output_spread_sheet\"\n",
    "\n",
    "###~~~~~~~~~~~~~~ SD-complex tone ~~~~~~~~~~~~~~~~\n",
    "source_folder = \"/Volumes/T7/CMU LiMN Research/perceptual organization/stimuli generation/len4-complexTone_everydaySound/stimuli/SD/block2_complex_tones\"\n",
    "new_folder = outpath + \"/SD_practice_section/complex_notes\"\n",
    "\n",
    "#specify subfolder names\n",
    "subfolders = ['length4']  # specify the subfolders you want to process\n",
    "#subfolders = [d for d in os.listdir(source_folder) if os.path.isdir(os.path.join(source_folder, d))] # all subfolders\n",
    "\n",
    "if not os.path.exists(new_folder):\n",
    "    os.makedirs(new_folder)\n",
    "\n",
    "combine_rows_from_xlsx_files(source_folder, new_folder, subfolders, selected_rows, keyword)\n",
    "\n",
    "###~~~~~~~~~~~~~ SD-everyday sound ~~~~~~~~~~~~~~~~~~~~\n",
    "#find a random block as practice section source folder\n",
    "source_folder = \"/Volumes/T7/CMU LiMN Research/perceptual organization/stimuli generation/len4-complexTone_everydaySound/stimuli/SD/block3_everyday_sounds\"\n",
    "new_folder = outpath + \"/SD_practice_section/everyday_sounds\"\n",
    "\n",
    "#specify subfolder names\n",
    "subfolders = ['length4']  # specify the subfolders you want to process\n",
    "#subfolders = [d for d in os.listdir(source_folder) if os.path.isdir(os.path.join(source_folder, d))] # all subfolders\n",
    "\n",
    "if not os.path.exists(new_folder):\n",
    "    os.makedirs(new_folder)\n",
    "\n",
    "combine_rows_from_xlsx_files(source_folder, new_folder, subfolders, selected_rows, keyword)"
   ]
  },
  {
   "cell_type": "markdown",
   "metadata": {},
   "source": [
    "#### complex tone vs cat sounds"
   ]
  },
  {
   "cell_type": "code",
   "execution_count": 10,
   "metadata": {},
   "outputs": [],
   "source": [
    "# ### Parameters\n",
    "# selected_rows = 4  # specify the number of rows to select\n",
    "# keyword = 'metadata'  # specify the keyword\n",
    "# outpath = \"/Volumes/T7/CMU LiMN Research/perceptual organization/stimuli generation/len4-complexTone_cat/output_spread_sheet\"\n",
    "\n",
    "# ###~~~~~~~~~~~~~~ SD-complex tone ~~~~~~~~~~~~~~~~\n",
    "# source_folder = \"/Volumes/T7/CMU LiMN Research/perceptual organization/stimuli generation/len4-complexTone_cat/stimuli/SD/block1_complex_tones\" # Don't choose same block, or randomized block value mixed\n",
    "# new_folder = outpath + \"/SD_practice_section/complex_notes\"\n",
    "\n",
    "# #specify subfolder names\n",
    "# subfolders = ['length4']  # specify the subfolders you want to process\n",
    "# #subfolders = [d for d in os.listdir(source_folder) if os.path.isdir(os.path.join(source_folder, d))] # all subfolders\n",
    "\n",
    "# if not os.path.exists(new_folder):\n",
    "#     os.makedirs(new_folder)\n",
    "\n",
    "# combine_rows_from_xlsx_files(source_folder, new_folder, subfolders, selected_rows, keyword)\n",
    "\n",
    "# ###~~~~~~~~~~~~~ SD-everyday sound ~~~~~~~~~~~~~~~~~~~~\n",
    "# #find a random block as practice section source folder\n",
    "# source_folder = \"/Volumes/T7/CMU LiMN Research/perceptual organization/stimuli generation/len4-complexTone_cat/stimuli/SD/block2_cat_mew_sounds\" # Don't choose same block, or randomized block value mixed\n",
    "# new_folder = outpath + \"/SD_practice_section/cat_sounds\"\n",
    "\n",
    "# #specify subfolder names\n",
    "# subfolders = ['length4']  # specify the subfolders you want to process\n",
    "# #subfolders = [d for d in os.listdir(source_folder) if os.path.isdir(os.path.join(source_folder, d))] # all subfolders\n",
    "\n",
    "# if not os.path.exists(new_folder):\n",
    "#     os.makedirs(new_folder)\n",
    "\n",
    "# combine_rows_from_xlsx_files(source_folder, new_folder, subfolders, selected_rows, keyword)"
   ]
  },
  {
   "cell_type": "markdown",
   "metadata": {},
   "source": [
    "#### complex tone vs dog sounds TBD"
   ]
  },
  {
   "cell_type": "code",
   "execution_count": null,
   "metadata": {},
   "outputs": [],
   "source": []
  },
  {
   "cell_type": "markdown",
   "metadata": {},
   "source": [
    "#### merge the practice xlsx and wav files"
   ]
  },
  {
   "cell_type": "markdown",
   "metadata": {},
   "source": []
  },
  {
   "cell_type": "code",
   "execution_count": 11,
   "metadata": {},
   "outputs": [],
   "source": [
    "# ### pitch variated syllable\n",
    "# file1 = \"E:/cmu/lab project/stimuli generation/V5-spread_sheet/Task_SD/SD_2_section_Practice/Pitch/combined_rows_prac.xlsx\"\n",
    "# file2 = \"E:/cmu/lab project/stimuli generation/V5-spread_sheet/Task_SD/SD_2_section_Practice/Word/combined_rows_prac.xlsx\"\n",
    "# output_file = \"E:/cmu/lab project/stimuli generation/V5-spread_sheet/Task_SD/SD_2_section_Practice\"\n",
    "\n",
    "### complex note and everyday sound \n",
    "# change the instruction in the code\n",
    "file1 = \"/Volumes/T7/CMU LiMN Research/perceptual organization/stimuli generation/len4-complexTone_everydaySound/output_spread_sheet/SD_practice_section/complex_notes/combined_rows_prac.xlsx\"\n",
    "file2 = \"/Volumes/T7/CMU LiMN Research/perceptual organization/stimuli generation/len4-complexTone_everydaySound/output_spread_sheet/SD_practice_section/everyday_sounds/combined_rows_prac.xlsx\"\n",
    "output_file = outpath + \"/SD_practice_section\"\n",
    "\n",
    "# ### complex note and cat sound \n",
    "# # change the instruction in the code\n",
    "# file1 = \"/Volumes/T7/CMU LiMN Research/perceptual organization/stimuli generation/len4-complexTone_cat/output_spread_sheet/SD_practice_section/complex_notes/combined_rows_prac.xlsx\"\n",
    "# file2 = \"/Volumes/T7/CMU LiMN Research/perceptual organization/stimuli generation/len4-complexTone_cat/output_spread_sheet/SD_practice_section/cat_sounds/combined_rows_prac.xlsx\"\n",
    "# output_file = outpath + \"/SD_practice_section\"\n",
    "\n",
    "if not os.path.exists(output_file):\n",
    "        os.makedirs(output_file)\n",
    "\n",
    "### create the pratice 1\n",
    "create_combined_xlsx(file1, file2, output_file,'prac_corr3','SD_practice1.xlsx', 'task-sd-feedback')\n",
    "### create the pratice 2\n",
    "create_combined_xlsx(file1, file2, output_file,'prac_corr4','SD_practice2.xlsx', 'task-sd-feedback')"
   ]
  }
 ],
 "metadata": {
  "kernelspec": {
   "display_name": "LiMN",
   "language": "python",
   "name": "limn"
  },
  "language_info": {
   "codemirror_mode": {
    "name": "ipython",
    "version": 3
   },
   "file_extension": ".py",
   "mimetype": "text/x-python",
   "name": "python",
   "nbconvert_exporter": "python",
   "pygments_lexer": "ipython3",
   "version": "3.9.6"
  },
  "orig_nbformat": 4
 },
 "nbformat": 4,
 "nbformat_minor": 2
}
