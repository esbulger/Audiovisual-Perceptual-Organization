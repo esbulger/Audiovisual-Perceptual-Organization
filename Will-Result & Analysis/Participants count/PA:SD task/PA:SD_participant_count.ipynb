{
 "cells": [
  {
   "cell_type": "code",
   "execution_count": 27,
   "metadata": {},
   "outputs": [
    {
     "name": "stdout",
     "output_type": "stream",
     "text": [
      "Number of unique Participant Public IDs: 41\n",
      "Number of unique Participant Private IDs: 41\n",
      "Common Participant Public IDs across files: set()\n",
      "Common Participant Private IDs across files: set()\n",
      "Number of unique Participant Public IDs: 40\n",
      "Number of unique Participant Private IDs: 40\n",
      "Common Participant Public IDs across files: set()\n",
      "Common Participant Private IDs across files: set()\n",
      "\n",
      "Number of unique Participant Public IDs: 79\n",
      "Number of unique Participant Private IDs: 81\n",
      "Common Participant Public IDs across files: {'5b222aff59f9620001c109cb', '617305abc8cde4cf0e08255b'}\n",
      "Common Participant Private IDs across files: set()\n"
     ]
    }
   ],
   "source": [
    "import pandas as pd\n",
    "from collections import Counter\n",
    "\n",
    "def count_unique_and_common_ids(paths):\n",
    "    \"\"\"\n",
    "    Count unique 'Participant Public ID' and 'Participant Private ID' from each CSV in paths,\n",
    "    and identify IDs common across multiple CSV files.\n",
    "    \n",
    "    Parameters:\n",
    "        paths (list): List of paths to the CSV files.\n",
    "        \n",
    "    Returns:\n",
    "        tuple: Number of unique public IDs, Number of unique private IDs,\n",
    "               Common public IDs across multiple files, Common private IDs across multiple files.\n",
    "    \"\"\"\n",
    "    \n",
    "    # Placeholders for all IDs\n",
    "    all_public_ids = []\n",
    "    all_private_ids = []\n",
    "\n",
    "    # Extract IDs from each CSV\n",
    "    for path in paths:\n",
    "        df = pd.read_csv(path)\n",
    "        \n",
    "        if 'Participant Public ID' in df.columns:\n",
    "            all_public_ids.append(set(df['Participant Public ID'].dropna().tolist()))\n",
    "            \n",
    "        if 'Participant Private ID' in df.columns:\n",
    "            all_private_ids.append(set(df['Participant Private ID'].dropna().tolist()))\n",
    "\n",
    "    # Identify common IDs across all paths\n",
    "    common_public_ids = set.intersection(*all_public_ids) if len(all_public_ids) > 1 else set()\n",
    "    common_private_ids = set.intersection(*all_private_ids) if len(all_private_ids) > 1 else set()\n",
    "\n",
    "    # Get number of unique IDs\n",
    "    num_unique_public_ids = len(set().union(*all_public_ids))\n",
    "    num_unique_private_ids = len(set().union(*all_private_ids))\n",
    "\n",
    "    return num_unique_public_ids, num_unique_private_ids, common_public_ids, common_private_ids\n",
    "\n",
    "# Your paths remain unchanged\n",
    "pth1 = '/Volumes/T7/CMU LiMN Research/Perceptual Organization/Result & Analysis/Participants count/PA:SD task/data/data_exp_141161-v2/data_exp_141161-v2_task-dew6.csv'\n",
    "pth2 = '/Volumes/T7/CMU LiMN Research/Perceptual Organization/Result & Analysis/Participants count/PA:SD task/data/data_exp_141875-v2/data_exp_141875-v2_task-dew6.csv'\n",
    "\n",
    "# Example usage for one path:\n",
    "paths = [pth1]\n",
    "unique_public_count, unique_private_count, common_public_ids, common_private_ids = count_unique_and_common_ids(paths)\n",
    "print(f\"Number of unique Participant Public IDs: {unique_public_count}\")\n",
    "print(f\"Number of unique Participant Private IDs: {unique_private_count}\")\n",
    "print(f\"Common Participant Public IDs across files: {common_public_ids}\")\n",
    "print(f\"Common Participant Private IDs across files: {common_private_ids}\")\n",
    "\n",
    "\n",
    "# Example usage for one path:\n",
    "paths = [pth2]\n",
    "unique_public_count, unique_private_count, common_public_ids, common_private_ids = count_unique_and_common_ids(paths)\n",
    "print(f\"Number of unique Participant Public IDs: {unique_public_count}\")\n",
    "print(f\"Number of unique Participant Private IDs: {unique_private_count}\")\n",
    "print(f\"Common Participant Public IDs across files: {common_public_ids}\")\n",
    "print(f\"Common Participant Private IDs across files: {common_private_ids}\")\n",
    "\n",
    "# Example usage for multiple paths:\n",
    "paths = [pth1, pth2]\n",
    "unique_public_count, unique_private_count, common_public_ids, common_private_ids = count_unique_and_common_ids(paths)\n",
    "print(f\"\\nNumber of unique Participant Public IDs: {unique_public_count}\")\n",
    "print(f\"Number of unique Participant Private IDs: {unique_private_count}\")\n",
    "print(f\"Common Participant Public IDs across files: {common_public_ids}\")\n",
    "print(f\"Common Participant Private IDs across files: {common_private_ids}\")\n"
   ]
  },
  {
   "cell_type": "markdown",
   "metadata": {},
   "source": [
    "5b is male   30\n",
    "61 is female 35"
   ]
  },
  {
   "cell_type": "code",
   "execution_count": 28,
   "metadata": {},
   "outputs": [
    {
     "data": {
      "text/plain": [
       "(31.734177215189874, 79)"
      ]
     },
     "execution_count": 28,
     "metadata": {},
     "output_type": "execute_result"
    }
   ],
   "source": [
    "# Given data\n",
    "old_mean = 31.753086419753085\n",
    "old_std = 9.711502026202655\n",
    "count = 81\n",
    "repeat1 = 35\n",
    "repeat2 = 30\n",
    "\n",
    "# Correcting the mean\n",
    "corrected_mean = (old_mean * count - repeat1 - repeat2) / (count - 2)\n",
    "\n",
    "\n",
    "# Correcting total_subjects\n",
    "corrected_total_subjects = count - 2\n",
    "\n",
    "corrected_mean, corrected_total_subjects\n"
   ]
  }
 ],
 "metadata": {
  "kernelspec": {
   "display_name": "LiMN",
   "language": "python",
   "name": "limn"
  },
  "language_info": {
   "codemirror_mode": {
    "name": "ipython",
    "version": 3
   },
   "file_extension": ".py",
   "mimetype": "text/x-python",
   "name": "python",
   "nbconvert_exporter": "python",
   "pygments_lexer": "ipython3",
   "version": "3.9.6"
  }
 },
 "nbformat": 4,
 "nbformat_minor": 2
}
