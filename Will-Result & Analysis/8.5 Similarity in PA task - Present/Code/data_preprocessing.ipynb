{
 "cells": [
  {
   "cell_type": "markdown",
   "metadata": {},
   "source": [
    "### Import Library"
   ]
  },
  {
   "cell_type": "code",
   "execution_count": 1,
   "metadata": {},
   "outputs": [],
   "source": [
    "import pandas as pd\n",
    "import seaborn as sns\n",
    "import os\n",
    "import numpy as np\n",
    "from sklearn.manifold import MDS\n",
    "import matplotlib.pyplot as plt\n",
    "import warnings\n",
    "from scipy.spatial import ConvexHull\n",
    "from matplotlib.lines import Line2D\n",
    "import matplotlib.colors as mcolors\n",
    "from adjustText import adjust_text"
   ]
  },
  {
   "cell_type": "markdown",
   "metadata": {},
   "source": [
    "### This data select the columns for three categories and store new csv in new dir"
   ]
  },
  {
   "cell_type": "code",
   "execution_count": 2,
   "metadata": {},
   "outputs": [
    {
     "name": "stderr",
     "output_type": "stream",
     "text": [
      "/var/folders/y9/0k_9rd192c3cw4x9z34p1_zr0000gn/T/ipykernel_13202/4090330719.py:8: DtypeWarning: Columns (0) have mixed types. Specify dtype option on import or set low_memory=False.\n",
      "  data = pd.read_csv(input_csv_path1)\n"
     ]
    }
   ],
   "source": [
    "# Complex tone csv\n",
    "\n",
    "# Process the input CSV file\n",
    "input_csv_path1 = '/Volumes/T7/CMU LiMN Research/Perceptual Organization/Result & Analysis/8. Similarity in PA task/data/12-15-data/data_exp_157418-v2/data_exp_157418-v2_task-lwvw.csv'  # Replace with your input CSV file path\n",
    "output_csv_path1 = '/Volumes/T7/CMU LiMN Research/Perceptual Organization/Result & Analysis/8. Similarity in PA task/data/processed_12-15-data/complexTone_rating.csv'  # Name of the output CSV file\n",
    "\n",
    "# Read the CSV file using pandas\n",
    "data = pd.read_csv(input_csv_path1)\n",
    "\n",
    "# Filter the data\n",
    "filtered_data = data[data['Component Name'] == 'Rating Scale'][['Component Name', 'Participant Private ID', 'Spreadsheet: A', 'Spreadsheet: B','Response']]\n",
    "\n",
    "# Save the filtered data to a new CSV file\n",
    "filtered_data.to_csv(output_csv_path1, index=False)\n"
   ]
  },
  {
   "cell_type": "code",
   "execution_count": 3,
   "metadata": {},
   "outputs": [],
   "source": [
    "# Everyday sound csv\n",
    "\n",
    "# Process the input CSV file\n",
    "input_csv_path2 = '/Volumes/T7/CMU LiMN Research/Perceptual Organization/Result & Analysis/8. Similarity in PA task/data/12-15-data/data_exp_157418-v2/data_exp_157418-v2_task-gcgd.csv'  # Replace with your input CSV file path\n",
    "output_csv_path2 = '/Volumes/T7/CMU LiMN Research/Perceptual Organization/Result & Analysis/8. Similarity in PA task/data/processed_12-15-data/everydaySound_rating.csv' # Name of the output CSV file\n",
    "\n",
    "# Read the CSV file using pandas\n",
    "data = pd.read_csv(input_csv_path2)\n",
    "\n",
    "# Filter the data\n",
    "filtered_data = data[data['Component Name'] == 'Rating Scale'][['Component Name', 'Participant Private ID', 'Spreadsheet: A', 'Spreadsheet: B','Response']]\n",
    "\n",
    "# Save the filtered data to a new CSV file\n",
    "filtered_data.to_csv(output_csv_path2, index=False)\n"
   ]
  },
  {
   "cell_type": "code",
   "execution_count": 4,
   "metadata": {},
   "outputs": [],
   "source": [
    "# Cat Meows csv\n",
    "\n",
    "# Process the input CSV file\n",
    "input_csv_path3 = '/Volumes/T7/CMU LiMN Research/Perceptual Organization/Result & Analysis/8. Similarity in PA task/data/12-15-data/data_exp_157418-v2/data_exp_157418-v2_task-vutv.csv'  # Replace with your input CSV file path\n",
    "output_csv_path3 = '/Volumes/T7/CMU LiMN Research/Perceptual Organization/Result & Analysis/8. Similarity in PA task/data/processed_12-15-data/catMeow_rating.csv'  # Name of the output CSV file\n",
    "\n",
    "# Read the CSV file using pandas\n",
    "data = pd.read_csv(input_csv_path3)\n",
    "\n",
    "# Filter the data\n",
    "filtered_data = data[data['Component Name'] == 'Rating Scale'][['Component Name', 'Participant Private ID', 'Spreadsheet: A', 'Spreadsheet: B','Response']]\n",
    "\n",
    "# Save the filtered data to a new CSV file\n",
    "filtered_data.to_csv(output_csv_path3, index=False)\n"
   ]
  }
 ],
 "metadata": {
  "kernelspec": {
   "display_name": "LiMN",
   "language": "python",
   "name": "python3"
  },
  "language_info": {
   "codemirror_mode": {
    "name": "ipython",
    "version": 3
   },
   "file_extension": ".py",
   "mimetype": "text/x-python",
   "name": "python",
   "nbconvert_exporter": "python",
   "pygments_lexer": "ipython3",
   "version": "3.9.6"
  }
 },
 "nbformat": 4,
 "nbformat_minor": 2
}
