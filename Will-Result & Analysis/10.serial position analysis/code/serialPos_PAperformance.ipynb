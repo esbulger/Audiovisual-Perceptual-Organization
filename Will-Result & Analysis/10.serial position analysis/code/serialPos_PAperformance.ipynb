{
 "cells": [
  {
   "cell_type": "markdown",
   "metadata": {},
   "source": [
    "### Liberary"
   ]
  },
  {
   "cell_type": "code",
   "execution_count": 13,
   "metadata": {},
   "outputs": [],
   "source": [
    "import numpy as np\n",
    "import pandas as pd\n",
    "import matplotlib.pyplot as plt\n",
    "import glob\n",
    "import os"
   ]
  },
  {
   "cell_type": "markdown",
   "metadata": {},
   "source": [
    "### functions"
   ]
  },
  {
   "cell_type": "code",
   "execution_count": 14,
   "metadata": {},
   "outputs": [],
   "source": [
    "#Input: result 4 csv directories with 'dew6' or 'sg16'  or 'yckr'  or 'venc'\n",
    "#Output: a list of csv directory \n",
    "def find_resultCSV(dir):\n",
    "    csv_files = glob.glob(dir +\"/*.csv\")\n",
    "    result_files = [i.replace('\\\\', '/') for i in csv_files]\n",
    "    result_files = [file for file in result_files if 'dew6'in file or 'sg16' in file or 'asre' in file or '7wjx' in file or 'ucr5' in file]\n",
    "\n",
    "    return result_files\n",
    "\n",
    "# Input: df consist of PA task information\n",
    "# Output: return the correctness with trial name and percent correctness\n",
    "def calculate_correctness(df):\n",
    "    # Add 'result' column: 1 if 'Response' matches 'Absent_Present', 0 otherwise\n",
    "    df['result'] = (df['Response'] == df['Absent_Present']).astype(int)\n",
    "\n",
    "    # Group by 'Sequence_Names' and 'Switch_Names' and calculate percent correctness\n",
    "    correctness = df.groupby(['Stim_Ind', 'Participant Private ID'])['result'].mean().reset_index()\n",
    "\n",
    "    # Rename the 'result' column to 'Percent_Correctness'\n",
    "    correctness.rename(columns={'result': 'Percent_Correctness'}, inplace=True)\n",
    "\n",
    "    return correctness\n",
    "\n",
    "#Input: a direcotry with the result csv file\n",
    "#Output: a dataframe with different types of trials and number of correct response for every type\n",
    "def count(dir, output_dir):\n",
    "    result_files = find_resultCSV(dir)\n",
    "    #print(result_files)\n",
    "\n",
    "    # 1. Extract the 'Absent_Present' & 'Length' & 'Attend_Condition' & 'Response' from every csv file\n",
    "    df = pd.concat([pd.read_csv(file, usecols=['Participant Private ID', 'Absent_Present', 'Attend_Condition', 'Response', 'Sequence_Names', 'Switch_Names', 'Stim_Ind']) for file in result_files])\n",
    "    df = df.query('Response != \"AUDIO PLAY REQUESTED\"').dropna(subset=['Response'])\n",
    "    df = df.query('Absent_Present != \"absent\"')\n",
    "    #print(df)\n",
    "    \n",
    "    # 2. Splitting the DataFrame into two based on 'Attend_Condition'\n",
    "    df1 = df[df['Attend_Condition'] == 'complex_tones']\n",
    "    df2 = df[df['Attend_Condition'] != 'complex_tones']\n",
    "\n",
    "    # 3. Sorting each DataFrame\n",
    "    df1 = df1.sort_values(by=['Sequence_Names', 'Switch_Names'])\n",
    "    df2 = df2.sort_values(by=['Sequence_Names', 'Switch_Names'])\n",
    "\n",
    "    # 4. Sequence_Name and Switch_Names combination find the percent correctness\n",
    "    # add a new column result by add 1 or 0 by comparing the 'Response' vs 'Absent_Present column' if they are the same, use 1 as correct use 0 as incorrect\n",
    "    # for every Sequence_Name and Switch_Names combination, find the percent correctness since different participant (each row)\n",
    "    # Calculate correctness for each DataFrame\n",
    "    correctness_df1 = calculate_correctness(df1)\n",
    "    correctness_df2 = calculate_correctness(df2)\n",
    "\n",
    "    # Export to CSV files\n",
    "    correctness_df1.to_csv(os.path.join(output_dir,'PA_correctness_complexTone.csv'), index=False)\n",
    "    correctness_df2.to_csv(os.path.join(output_dir,'PA_correctness_other.csv'), index=False)\n"
   ]
  },
  {
   "cell_type": "markdown",
   "metadata": {},
   "source": [
    "### This code extract the sequence information and the performance (%correctness) each sequence"
   ]
  },
  {
   "cell_type": "markdown",
   "metadata": {},
   "source": [
    "#### Experiment 2a Everyday sound snippets vs Complex tones"
   ]
  },
  {
   "cell_type": "code",
   "execution_count": 15,
   "metadata": {},
   "outputs": [],
   "source": [
    "# input directory\n",
    "dir_mac1 = \"/Volumes/T7/CMU LiMN Research/Perceptual Organization/Result & Analysis/7.replicate-len4-Complextone-Everydaysounds/data/prolific-8-29/data_exp_141875-v2\"\n",
    "# dir_mac2 = \"/Volumes/T7/CMU LiMN Research/Perceptual Organization/Result & Analysis/4.replicate-len6-Complextone-Everydaysounds/data/Joys-8-1\"\n",
    "# dir_mac3 = \"/Volumes/T7/CMU LiMN Research/Perceptual Organization/Result & Analysis/4.replicate-len6-Complextone-Everydaysounds/data/Perceptual Organization Pilot - Audio - ES\"\n",
    "dir1 = [dir_mac1]\n",
    "\n",
    "# define the directory where you want to save the plot\n",
    "save_dir_mac1 = \"/Volumes/T7/CMU LiMN Research/Perceptual Organization/Result & Analysis/10. serial position analysis/Everyday_CompexTone_result\"\n",
    "# check if directory exists, if not, create it\n",
    "if not os.path.isdir(save_dir_mac1):\n",
    "    os.makedirs(save_dir_mac1) \n",
    "\n",
    "for i in range(len(dir1)):\n",
    "    # use same axis\n",
    "    df = count(dir1[i], save_dir_mac1)"
   ]
  },
  {
   "cell_type": "markdown",
   "metadata": {},
   "source": [
    "#### Experiment 2b Cat Meows vs Complex tones"
   ]
  },
  {
   "cell_type": "code",
   "execution_count": 16,
   "metadata": {},
   "outputs": [],
   "source": [
    "# input directory\n",
    "dir_mac2 = \"/Volumes/T7/CMU LiMN Research/Perceptual Organization/Result & Analysis/6.replicate-len4-Complextone-Catsounds/data/prolific-8-31/data_exp_141161-v2\"\n",
    "# dir_mac2 = \"/Volumes/T7/CMU LiMN Research/Perceptual Organization/Result & Analysis/4.replicate-len6-Complextone-Everydaysounds/data/Joys-8-1\"\n",
    "# dir_mac3 = \"/Volumes/T7/CMU LiMN Research/Perceptual Organization/Result & Analysis/4.replicate-len6-Complextone-Everydaysounds/data/Perceptual Organization Pilot - Audio - ES\"\n",
    "dir2 = [dir_mac2]\n",
    "\n",
    "# define the directory where you want to save the plot\n",
    "save_dir_mac2 = \"/Volumes/T7/CMU LiMN Research/Perceptual Organization/Result & Analysis/10. serial position analysis/Cat_CompexTone_result\"\n",
    "# check if directory exists, if not, create it\n",
    "if not os.path.isdir(save_dir_mac2):\n",
    "    os.makedirs(save_dir_mac2)\n",
    "\n",
    "for i in range(len(dir2)):\n",
    "    # use same axis\n",
    "    df = count(dir2[i], save_dir_mac2)\n"
   ]
  }
 ],
 "metadata": {
  "kernelspec": {
   "display_name": "LiMN",
   "language": "python",
   "name": "python3"
  },
  "language_info": {
   "codemirror_mode": {
    "name": "ipython",
    "version": 3
   },
   "file_extension": ".py",
   "mimetype": "text/x-python",
   "name": "python",
   "nbconvert_exporter": "python",
   "pygments_lexer": "ipython3",
   "version": "3.9.6"
  }
 },
 "nbformat": 4,
 "nbformat_minor": 2
}
