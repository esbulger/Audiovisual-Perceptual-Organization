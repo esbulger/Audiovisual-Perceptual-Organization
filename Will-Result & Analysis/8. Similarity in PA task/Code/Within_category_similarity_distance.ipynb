{
 "cells": [
  {
   "cell_type": "markdown",
   "metadata": {},
   "source": [
    "### Import Library"
   ]
  },
  {
   "cell_type": "code",
   "execution_count": 2,
   "metadata": {},
   "outputs": [],
   "source": [
    "import pandas as pd\n",
    "import seaborn as sns\n",
    "import os\n",
    "import numpy as np"
   ]
  },
  {
   "cell_type": "markdown",
   "metadata": {},
   "source": [
    "### Define the function"
   ]
  },
  {
   "cell_type": "code",
   "execution_count": null,
   "metadata": {},
   "outputs": [],
   "source": []
  },
  {
   "cell_type": "markdown",
   "metadata": {},
   "source": [
    "### Within category similarity distance"
   ]
  },
  {
   "cell_type": "markdown",
   "metadata": {},
   "source": [
    "#### 1. everyday sounds vs complex tones (old)"
   ]
  },
  {
   "cell_type": "code",
   "execution_count": 3,
   "metadata": {},
   "outputs": [],
   "source": [
    "# Step 1: Define the WAV file names\n",
    "complex_tone_names = ['C4', 'D4', 'E4', 'Fs4_Gb4', 'G4', 'Gs4_Ab4', 'A4', 'Cs5_Db5', 'Ds5_Eb5']\n",
    "everydaysound_names = ['baby_3ms', 'bell_3ms', 'frog_3ms', 'car_engine_3ms', 'cough_3ms', 'snore_3ms', 'sheep_3ms', 'sizzling_pan_3ms', 'laugh_3ms']\n",
    "\n",
    "# Step 2: Process the input CSV file\n",
    "input_csv_path = '/Volumes/T7/CMU LiMN Research/Perceptual Organization/Result & Analysis/perceptual-similarity-complexTone_everydaySound/result/prolific-pilot_result/processed_ratings.csv'  # Replace with your input CSV file path\n",
    "output_csv_path = '/Volumes/T7/CMU LiMN Research/Perceptual Organization/Result & Analysis/8. Similarity in PA task/Everyday_CompexTone_result'\n",
    "# Read the CSV file using pandas\n",
    "data = pd.read_csv(input_csv_path)\n",
    "\n",
    "# Filter the data\n",
    "filtered_data = data[data['Component Name'] == 'Rating Scale'][['Component Name', 'Participant Private ID', 'Spreadsheet: A', 'Spreadsheet: B','Response']]\n",
    "\n",
    "#sort the data\n",
    "filtered_data = filtered_data.sort_values(by=['Spreadsheet: A', 'Spreadsheet: B'])\n",
    "\n",
    "# Group by 'Sequence_Names' and 'Switch_Names' and calculate percent correctness\n",
    "distance = filtered_data.groupby(['Spreadsheet: A', 'Spreadsheet: B'])['Response'].mean().reset_index()\n",
    "\n",
    "# Rename the 'result' column to 'Percent_Correctness'\n",
    "distance.rename(columns={'Response': 'Similarity_Distance'}, inplace=True)\n",
    "\n",
    "distance.to_csv(os.path.join(output_csv_path,'distance_complexTone_Everyday.csv'), index=False)"
   ]
  },
  {
   "cell_type": "markdown",
   "metadata": {},
   "source": [
    "#### 2. cat meows vs complex tones (old)"
   ]
  },
  {
   "cell_type": "code",
   "execution_count": 4,
   "metadata": {},
   "outputs": [],
   "source": [
    "# Step 1: Define the WAV file names\n",
    "complex_tone_names =  ['C4', 'D4', 'E4', 'Fs4_Gb4', 'G4', 'Gs4_Ab4', 'A4', 'Cs5_Db5', 'Ds5_Eb5'] \n",
    "catsound_names = ['1_300ms','5_300ms','8_300ms','11_300ms','17_300ms','18_300ms','24_300ms','25_300ms','26_300ms']\n",
    "\n",
    "# Step 2: Process the input CSV file\n",
    "input_csv_path = '/Volumes/T7/CMU LiMN Research/Perceptual Organization/Result & Analysis/perceptual-similarity-complexTone_catSound/result/prolific-8-31-result/processed_ratings.csv'  # Replace with your input CSV file path\n",
    "output_csv_path2 = '/Volumes/T7/CMU LiMN Research/Perceptual Organization/Result & Analysis/8. Similarity in PA task/Cat_CompexTone_result'\n",
    "# Read the CSV file using pandas\n",
    "data2 = pd.read_csv(input_csv_path)\n",
    "\n",
    "# Filter the data\n",
    "filtered_data2 = data2[data2['Component Name'] == 'Rating Scale'][['Component Name', 'Participant Private ID', 'Spreadsheet: A', 'Spreadsheet: B','Response']]\n",
    "\n",
    "#sort the data\n",
    "filtered_data2 = filtered_data2.sort_values(by=['Spreadsheet: A', 'Spreadsheet: B'])\n",
    "\n",
    "# Group by 'Sequence_Names' and 'Switch_Names' and calculate percent correctness\n",
    "distance2 = filtered_data2.groupby(['Spreadsheet: A', 'Spreadsheet: B'])['Response'].mean().reset_index()\n",
    "\n",
    "# Rename the 'result' column to 'Percent_Correctness'\n",
    "distance2.rename(columns={'Response': 'Similarity_Distance'}, inplace=True)\n",
    "\n",
    "distance2.to_csv(os.path.join(output_csv_path2,'distance_complexTone_Cat.csv'), index=False)\n"
   ]
  },
  {
   "cell_type": "markdown",
   "metadata": {},
   "source": [
    "#### complex tone "
   ]
  },
  {
   "cell_type": "code",
   "execution_count": 5,
   "metadata": {},
   "outputs": [],
   "source": [
    "#Process the input CSV file\n",
    "input_csv_path = '/Volumes/T7/CMU LiMN Research/Perceptual Organization/Result & Analysis/8. Similarity in PA task/data/processed_12-15-data/complexTone_rating.csv'  # Replace with your input CSV file path\n",
    "output_csv_path = '/Volumes/T7/CMU LiMN Research/Perceptual Organization/Result & Analysis/8. Similarity in PA task/result'\n",
    "# Read the CSV file using pandas\n",
    "data = pd.read_csv(input_csv_path)\n",
    "\n",
    "# Filter the data\n",
    "filtered_data = data[data['Component Name'] == 'Rating Scale'][['Component Name', 'Participant Private ID', 'Spreadsheet: A', 'Spreadsheet: B','Response']]\n",
    "\n",
    "#sort the data\n",
    "filtered_data = filtered_data.sort_values(by=['Spreadsheet: A', 'Spreadsheet: B'])\n",
    "\n",
    "# Group by 'Sequence_Names' and 'Switch_Names' and calculate percent correctness\n",
    "distance = filtered_data.groupby(['Spreadsheet: A', 'Spreadsheet: B'])['Response'].mean().reset_index()\n",
    "\n",
    "# Rename the 'result' column to 'Percent_Correctness'\n",
    "distance.rename(columns={'Response': 'Similarity_Distance'}, inplace=True)\n",
    "\n",
    "distance.to_csv(os.path.join(output_csv_path,'distance_complexTone.csv'), index=False)"
   ]
  },
  {
   "cell_type": "markdown",
   "metadata": {},
   "source": [
    "#### everyday sound"
   ]
  },
  {
   "cell_type": "code",
   "execution_count": 6,
   "metadata": {},
   "outputs": [],
   "source": [
    "#Process the input CSV file\n",
    "input_csv_path = '/Volumes/T7/CMU LiMN Research/Perceptual Organization/Result & Analysis/8. Similarity in PA task/data/processed_12-15-data/everydaySound_rating.csv'  # Replace with your input CSV file path\n",
    "output_csv_path = '/Volumes/T7/CMU LiMN Research/Perceptual Organization/Result & Analysis/8. Similarity in PA task/result'\n",
    "# Read the CSV file using pandas\n",
    "data = pd.read_csv(input_csv_path)\n",
    "\n",
    "# Filter the data\n",
    "filtered_data = data[data['Component Name'] == 'Rating Scale'][['Component Name', 'Participant Private ID', 'Spreadsheet: A', 'Spreadsheet: B','Response']]\n",
    "\n",
    "#sort the data\n",
    "filtered_data = filtered_data.sort_values(by=['Spreadsheet: A', 'Spreadsheet: B'])\n",
    "\n",
    "# Group by 'Sequence_Names' and 'Switch_Names' and calculate percent correctness\n",
    "distance = filtered_data.groupby(['Spreadsheet: A', 'Spreadsheet: B'])['Response'].mean().reset_index()\n",
    "\n",
    "# Rename the 'result' column to 'Percent_Correctness'\n",
    "distance.rename(columns={'Response': 'Similarity_Distance'}, inplace=True)\n",
    "\n",
    "distance.to_csv(os.path.join(output_csv_path,'distance_everydaySound.csv'), index=False)"
   ]
  },
  {
   "cell_type": "markdown",
   "metadata": {},
   "source": [
    "#### cat meow"
   ]
  },
  {
   "cell_type": "code",
   "execution_count": 7,
   "metadata": {},
   "outputs": [],
   "source": [
    "#Process the input CSV file\n",
    "input_csv_path = '/Volumes/T7/CMU LiMN Research/Perceptual Organization/Result & Analysis/8. Similarity in PA task/data/processed_12-15-data/catMeow_rating.csv' # Replace with your input CSV file path\n",
    "output_csv_path = '/Volumes/T7/CMU LiMN Research/Perceptual Organization/Result & Analysis/8. Similarity in PA task/result'\n",
    "# Read the CSV file using pandas\n",
    "data = pd.read_csv(input_csv_path)\n",
    "\n",
    "# Filter the data\n",
    "filtered_data = data[data['Component Name'] == 'Rating Scale'][['Component Name', 'Participant Private ID', 'Spreadsheet: A', 'Spreadsheet: B','Response']]\n",
    "\n",
    "#sort the data\n",
    "filtered_data = filtered_data.sort_values(by=['Spreadsheet: A', 'Spreadsheet: B'])\n",
    "\n",
    "# Group by 'Sequence_Names' and 'Switch_Names' and calculate percent correctness\n",
    "distance = filtered_data.groupby(['Spreadsheet: A', 'Spreadsheet: B'])['Response'].mean().reset_index()\n",
    "\n",
    "# Rename the 'result' column to 'Percent_Correctness'\n",
    "distance.rename(columns={'Response': 'Similarity_Distance'}, inplace=True)\n",
    "\n",
    "distance.to_csv(os.path.join(output_csv_path,'distance_catMeow.csv'), index=False)"
   ]
  }
 ],
 "metadata": {
  "kernelspec": {
   "display_name": "LiMN",
   "language": "python",
   "name": "python3"
  },
  "language_info": {
   "codemirror_mode": {
    "name": "ipython",
    "version": 3
   },
   "file_extension": ".py",
   "mimetype": "text/x-python",
   "name": "python",
   "nbconvert_exporter": "python",
   "pygments_lexer": "ipython3",
   "version": "3.9.6"
  }
 },
 "nbformat": 4,
 "nbformat_minor": 2
}
